{
  "cells": [
    {
      "cell_type": "markdown",
      "metadata": {},
      "source": [
        "#### Groupe Canam | Intelligence Artificielle\n",
        "### FOTSO TEKAM VALDEZ WILSONS\n",
        "\n"
      ]
    },
    {
      "cell_type": "markdown",
      "metadata": {
        "id": "drCF5M3I3h5c"
      },
      "source": [
        "# Question #1 : Préparation des données"
      ]
    },
    {
      "cell_type": "markdown",
      "metadata": {
        "id": "SiLuAJjf3h5s"
      },
      "source": [
        "Voici un récapitulatif de ce qui a été fait pour répondre à la question #1 :\n",
        "\n",
        "### 1.1 Résolution des problèmes de qualité des données :\n",
        "\n",
        "- **Identification des Problèmes :** Les données ont été examinées pour détecter des problèmes potentiels tels que des valeurs manquantes, des valeurs aberrantes, des formats incorrects, etc.\n",
        "  \n",
        "- **Traitement des Valeurs Manquantes :** Les valeurs manquantes ont été identifiées dans les colonnes 'name' et 'category'. Pour 'name', étant une variable texte, il a été décidé de supprimer les valeurs manquantes comme il était très très peu. Pour 'category', étant une variable catégorielle, les lignes avec des valeurs manquantes ont été supprimées, car il était difficile de les imputer de manière significative.\n",
        "\n",
        "- **Conversion des Types de Données :** Les colonnes 'deadline' et 'launched' ont été converties au format datetime en traitant les erreurs. Les valeurs invalides (NaT) dans la colonne 'deadline' ont été supprimées.\n",
        "\n",
        "- **Traitement des Devise (Currency) :** Les valeurs uniques dans la colonne 'currency' ont été vérifiées pour s'assurer qu'elles correspondent aux devises attendues (['GBP', 'USD', 'CAD', 'NOK', 'AUD', 'EUR', 'MXN', 'SEK', 'NZD', 'CHF', 'DKK', 'HKD', 'SGD']). Les valeurs incorrectes ont été identifiées. de meme que les autres colonne.\n",
        "\n",
        "### 1.2 Impact de la qualité des données sur les performances du modèle :\n",
        "\n",
        "- Une visualisation a été créée pour illustrer le pourcentage de valeurs manquantes par colonne. Ce graphique à barres permet de voir quelles colonnes ont le plus de valeurs manquantes.\n",
        "\n",
        "- La gestion des problèmes de qualité des données a impliqué des décisions telles que la suppression de lignes avec des valeurs manquantes dans des colonnes critiques, la conversion de types de données pour s'assurer qu'ils correspondent à ce qui est attendu, et la vérification et la correction des valeurs dans la colonne 'currency', etc... pour s'assurer de leur validité.\n",
        "\n",
        "Ces étapes ont contribué à préparer les données pour une utilisation plus efficace dans la construction et l'évaluation d'un modèle."
      ]
    },
    {
      "cell_type": "code",
      "execution_count": 1,
      "metadata": {
        "colab": {
          "base_uri": "https://localhost:8080/",
          "height": 17
        },
        "id": "l5psweW_3h5t",
        "outputId": "c46331ce-8b6c-453d-ff47-5b0cc0b70e78"
      },
      "outputs": [
        {
          "data": {
            "text/html": [
              "\n",
              "<style>\n",
              "body {\n",
              "    font-family: 'Times New Roman', Times, serif;\n",
              "    text-align: justify;\n",
              "}\n",
              "</style>\n"
            ],
            "text/plain": [
              "<IPython.core.display.HTML object>"
            ]
          },
          "execution_count": 1,
          "metadata": {},
          "output_type": "execute_result"
        }
      ],
      "source": [
        "import pandas as pd\n",
        "from IPython.core.display import HTML\n",
        "\n",
        "HTML(\"\"\"\n",
        "<style>\n",
        "body {\n",
        "    font-family: 'Times New Roman', Times, serif;\n",
        "    text-align: justify;\n",
        "}\n",
        "</style>\n",
        "\"\"\")\n"
      ]
    },
    {
      "cell_type": "markdown",
      "metadata": {
        "id": "zyumzbJL3h5w"
      },
      "source": [
        "Charger le jeu de données depuis le fichier ks_dataset.csv"
      ]
    },
    {
      "cell_type": "code",
      "execution_count": 2,
      "metadata": {
        "colab": {
          "base_uri": "https://localhost:8080/"
        },
        "id": "FRRCJqb33h5w",
        "outputId": "83af7c17-8091-4475-fe19-85a8718bac29"
      },
      "outputs": [
        {
          "name": "stderr",
          "output_type": "stream",
          "text": [
            "<ipython-input-2-f831b134ffd9>:1: DtypeWarning: Columns (13,14,15) have mixed types. Specify dtype option on import or set low_memory=False.\n",
            "  ks = pd.read_csv('ks_dataset.csv', encoding='latin-1')\n"
          ]
        }
      ],
      "source": [
        "ks = pd.read_csv('ks_dataset.csv', encoding='latin-1')"
      ]
    },
    {
      "cell_type": "markdown",
      "metadata": {
        "id": "4slKDawB3h5w"
      },
      "source": [
        "1. Examiner les premières lignes pour comprendre la structure des données"
      ]
    },
    {
      "cell_type": "code",
      "execution_count": 3,
      "metadata": {
        "colab": {
          "base_uri": "https://localhost:8080/",
          "height": 938
        },
        "id": "TcJVF6jD3h5x",
        "outputId": "d73269bf-5185-4dda-c647-198fab934b0a"
      },
      "outputs": [
        {
          "name": "stdout",
          "output_type": "stream",
          "text": [
            "Les premières lignes du DataFrame :\n"
          ]
        },
        {
          "data": {
            "text/html": [
              "\n",
              "  <div id=\"df-7b7b3a02-577e-497f-9118-d4ae931b7db4\" class=\"colab-df-container\">\n",
              "    <div>\n",
              "<style scoped>\n",
              "    .dataframe tbody tr th:only-of-type {\n",
              "        vertical-align: middle;\n",
              "    }\n",
              "\n",
              "    .dataframe tbody tr th {\n",
              "        vertical-align: top;\n",
              "    }\n",
              "\n",
              "    .dataframe thead th {\n",
              "        text-align: right;\n",
              "    }\n",
              "</style>\n",
              "<table border=\"1\" class=\"dataframe\">\n",
              "  <thead>\n",
              "    <tr style=\"text-align: right;\">\n",
              "      <th></th>\n",
              "      <th>ID</th>\n",
              "      <th>name</th>\n",
              "      <th>category</th>\n",
              "      <th>main_category</th>\n",
              "      <th>currency</th>\n",
              "      <th>deadline</th>\n",
              "      <th>goal</th>\n",
              "      <th>launched</th>\n",
              "      <th>pledged</th>\n",
              "      <th>state</th>\n",
              "      <th>backers</th>\n",
              "      <th>country</th>\n",
              "      <th>usd pledged</th>\n",
              "      <th>Unnamed: 13</th>\n",
              "      <th>Unnamed: 14</th>\n",
              "      <th>Unnamed: 15</th>\n",
              "      <th>Unnamed: 16</th>\n",
              "    </tr>\n",
              "  </thead>\n",
              "  <tbody>\n",
              "    <tr>\n",
              "      <th>0</th>\n",
              "      <td>1000002330</td>\n",
              "      <td>The Songs of Adelaide &amp; Abullah</td>\n",
              "      <td>Poetry</td>\n",
              "      <td>Publishing</td>\n",
              "      <td>GBP</td>\n",
              "      <td>2015-10-09 11:36:00</td>\n",
              "      <td>1000</td>\n",
              "      <td>2015-08-11 12:12:28</td>\n",
              "      <td>0</td>\n",
              "      <td>failed</td>\n",
              "      <td>0</td>\n",
              "      <td>GB</td>\n",
              "      <td>0</td>\n",
              "      <td>NaN</td>\n",
              "      <td>NaN</td>\n",
              "      <td>NaN</td>\n",
              "      <td>NaN</td>\n",
              "    </tr>\n",
              "    <tr>\n",
              "      <th>1</th>\n",
              "      <td>1000004038</td>\n",
              "      <td>Where is Hank?</td>\n",
              "      <td>Narrative Film</td>\n",
              "      <td>Film &amp; Video</td>\n",
              "      <td>USD</td>\n",
              "      <td>2013-02-26 00:20:50</td>\n",
              "      <td>45000</td>\n",
              "      <td>2013-01-12 00:20:50</td>\n",
              "      <td>220</td>\n",
              "      <td>failed</td>\n",
              "      <td>3</td>\n",
              "      <td>US</td>\n",
              "      <td>220</td>\n",
              "      <td>NaN</td>\n",
              "      <td>NaN</td>\n",
              "      <td>NaN</td>\n",
              "      <td>NaN</td>\n",
              "    </tr>\n",
              "    <tr>\n",
              "      <th>2</th>\n",
              "      <td>1000007540</td>\n",
              "      <td>ToshiCapital Rekordz Needs Help to Complete Album</td>\n",
              "      <td>Music</td>\n",
              "      <td>Music</td>\n",
              "      <td>USD</td>\n",
              "      <td>2012-04-16 04:24:11</td>\n",
              "      <td>5000</td>\n",
              "      <td>2012-03-17 03:24:11</td>\n",
              "      <td>1</td>\n",
              "      <td>failed</td>\n",
              "      <td>1</td>\n",
              "      <td>US</td>\n",
              "      <td>1</td>\n",
              "      <td>NaN</td>\n",
              "      <td>NaN</td>\n",
              "      <td>NaN</td>\n",
              "      <td>NaN</td>\n",
              "    </tr>\n",
              "    <tr>\n",
              "      <th>3</th>\n",
              "      <td>1000011046</td>\n",
              "      <td>Community Film Project: The Art of Neighborhoo...</td>\n",
              "      <td>Film &amp; Video</td>\n",
              "      <td>Film &amp; Video</td>\n",
              "      <td>USD</td>\n",
              "      <td>2015-08-29 01:00:00</td>\n",
              "      <td>19500</td>\n",
              "      <td>2015-07-04 08:35:03</td>\n",
              "      <td>1283</td>\n",
              "      <td>canceled</td>\n",
              "      <td>14</td>\n",
              "      <td>US</td>\n",
              "      <td>1283</td>\n",
              "      <td>NaN</td>\n",
              "      <td>NaN</td>\n",
              "      <td>NaN</td>\n",
              "      <td>NaN</td>\n",
              "    </tr>\n",
              "    <tr>\n",
              "      <th>4</th>\n",
              "      <td>1000014025</td>\n",
              "      <td>Monarch Espresso Bar</td>\n",
              "      <td>Restaurants</td>\n",
              "      <td>Food</td>\n",
              "      <td>USD</td>\n",
              "      <td>2016-04-01 13:38:27</td>\n",
              "      <td>50000</td>\n",
              "      <td>2016-02-26 13:38:27</td>\n",
              "      <td>52375</td>\n",
              "      <td>successful</td>\n",
              "      <td>224</td>\n",
              "      <td>US</td>\n",
              "      <td>52375</td>\n",
              "      <td>NaN</td>\n",
              "      <td>NaN</td>\n",
              "      <td>NaN</td>\n",
              "      <td>NaN</td>\n",
              "    </tr>\n",
              "    <tr>\n",
              "      <th>5</th>\n",
              "      <td>1000023410</td>\n",
              "      <td>Support Solar Roasted Coffee &amp; Green Energy!  ...</td>\n",
              "      <td>Food</td>\n",
              "      <td>Food</td>\n",
              "      <td>USD</td>\n",
              "      <td>2014-12-21 18:30:44</td>\n",
              "      <td>1000</td>\n",
              "      <td>2014-12-01 18:30:44</td>\n",
              "      <td>1205</td>\n",
              "      <td>successful</td>\n",
              "      <td>16</td>\n",
              "      <td>US</td>\n",
              "      <td>1205</td>\n",
              "      <td>NaN</td>\n",
              "      <td>NaN</td>\n",
              "      <td>NaN</td>\n",
              "      <td>NaN</td>\n",
              "    </tr>\n",
              "    <tr>\n",
              "      <th>6</th>\n",
              "      <td>1000030581</td>\n",
              "      <td>Chaser Strips. Our Strips make Shots their B*tch!</td>\n",
              "      <td>Drinks</td>\n",
              "      <td>Food</td>\n",
              "      <td>USD</td>\n",
              "      <td>2016-03-17 19:05:12</td>\n",
              "      <td>25000</td>\n",
              "      <td>2016-02-01 20:05:12</td>\n",
              "      <td>453</td>\n",
              "      <td>failed</td>\n",
              "      <td>40</td>\n",
              "      <td>US</td>\n",
              "      <td>453</td>\n",
              "      <td>NaN</td>\n",
              "      <td>NaN</td>\n",
              "      <td>NaN</td>\n",
              "      <td>NaN</td>\n",
              "    </tr>\n",
              "    <tr>\n",
              "      <th>7</th>\n",
              "      <td>1000034518</td>\n",
              "      <td>SPIN - Premium Retractable In-Ear Headphones w...</td>\n",
              "      <td>Product Design</td>\n",
              "      <td>Design</td>\n",
              "      <td>USD</td>\n",
              "      <td>2014-05-29 18:14:43</td>\n",
              "      <td>125000</td>\n",
              "      <td>2014-04-24 18:14:43</td>\n",
              "      <td>8233</td>\n",
              "      <td>canceled</td>\n",
              "      <td>58</td>\n",
              "      <td>US</td>\n",
              "      <td>8233</td>\n",
              "      <td>NaN</td>\n",
              "      <td>NaN</td>\n",
              "      <td>NaN</td>\n",
              "      <td>NaN</td>\n",
              "    </tr>\n",
              "    <tr>\n",
              "      <th>8</th>\n",
              "      <td>100004195</td>\n",
              "      <td>STUDIO IN THE SKY - A Documentary Feature Film...</td>\n",
              "      <td>Documentary</td>\n",
              "      <td>Film &amp; Video</td>\n",
              "      <td>USD</td>\n",
              "      <td>2014-08-10 21:55:48</td>\n",
              "      <td>65000</td>\n",
              "      <td>2014-07-11 21:55:48</td>\n",
              "      <td>6240.57</td>\n",
              "      <td>canceled</td>\n",
              "      <td>43</td>\n",
              "      <td>US</td>\n",
              "      <td>6240.57</td>\n",
              "      <td>NaN</td>\n",
              "      <td>NaN</td>\n",
              "      <td>NaN</td>\n",
              "      <td>NaN</td>\n",
              "    </tr>\n",
              "    <tr>\n",
              "      <th>9</th>\n",
              "      <td>100004721</td>\n",
              "      <td>Of Jesus and Madmen</td>\n",
              "      <td>Nonfiction</td>\n",
              "      <td>Publishing</td>\n",
              "      <td>CAD</td>\n",
              "      <td>2013-10-09 18:19:37</td>\n",
              "      <td>2500</td>\n",
              "      <td>2013-09-09 18:19:37</td>\n",
              "      <td>0</td>\n",
              "      <td>failed</td>\n",
              "      <td>0</td>\n",
              "      <td>CA</td>\n",
              "      <td>0</td>\n",
              "      <td>NaN</td>\n",
              "      <td>NaN</td>\n",
              "      <td>NaN</td>\n",
              "      <td>NaN</td>\n",
              "    </tr>\n",
              "  </tbody>\n",
              "</table>\n",
              "</div>\n",
              "    <div class=\"colab-df-buttons\">\n",
              "\n",
              "  <div class=\"colab-df-container\">\n",
              "    <button class=\"colab-df-convert\" onclick=\"convertToInteractive('df-7b7b3a02-577e-497f-9118-d4ae931b7db4')\"\n",
              "            title=\"Convert this dataframe to an interactive table.\"\n",
              "            style=\"display:none;\">\n",
              "\n",
              "  <svg xmlns=\"http://www.w3.org/2000/svg\" height=\"24px\" viewBox=\"0 -960 960 960\">\n",
              "    <path d=\"M120-120v-720h720v720H120Zm60-500h600v-160H180v160Zm220 220h160v-160H400v160Zm0 220h160v-160H400v160ZM180-400h160v-160H180v160Zm440 0h160v-160H620v160ZM180-180h160v-160H180v160Zm440 0h160v-160H620v160Z\"/>\n",
              "  </svg>\n",
              "    </button>\n",
              "\n",
              "  <style>\n",
              "    .colab-df-container {\n",
              "      display:flex;\n",
              "      gap: 12px;\n",
              "    }\n",
              "\n",
              "    .colab-df-convert {\n",
              "      background-color: #E8F0FE;\n",
              "      border: none;\n",
              "      border-radius: 50%;\n",
              "      cursor: pointer;\n",
              "      display: none;\n",
              "      fill: #1967D2;\n",
              "      height: 32px;\n",
              "      padding: 0 0 0 0;\n",
              "      width: 32px;\n",
              "    }\n",
              "\n",
              "    .colab-df-convert:hover {\n",
              "      background-color: #E2EBFA;\n",
              "      box-shadow: 0px 1px 2px rgba(60, 64, 67, 0.3), 0px 1px 3px 1px rgba(60, 64, 67, 0.15);\n",
              "      fill: #174EA6;\n",
              "    }\n",
              "\n",
              "    .colab-df-buttons div {\n",
              "      margin-bottom: 4px;\n",
              "    }\n",
              "\n",
              "    [theme=dark] .colab-df-convert {\n",
              "      background-color: #3B4455;\n",
              "      fill: #D2E3FC;\n",
              "    }\n",
              "\n",
              "    [theme=dark] .colab-df-convert:hover {\n",
              "      background-color: #434B5C;\n",
              "      box-shadow: 0px 1px 3px 1px rgba(0, 0, 0, 0.15);\n",
              "      filter: drop-shadow(0px 1px 2px rgba(0, 0, 0, 0.3));\n",
              "      fill: #FFFFFF;\n",
              "    }\n",
              "  </style>\n",
              "\n",
              "    <script>\n",
              "      const buttonEl =\n",
              "        document.querySelector('#df-7b7b3a02-577e-497f-9118-d4ae931b7db4 button.colab-df-convert');\n",
              "      buttonEl.style.display =\n",
              "        google.colab.kernel.accessAllowed ? 'block' : 'none';\n",
              "\n",
              "      async function convertToInteractive(key) {\n",
              "        const element = document.querySelector('#df-7b7b3a02-577e-497f-9118-d4ae931b7db4');\n",
              "        const dataTable =\n",
              "          await google.colab.kernel.invokeFunction('convertToInteractive',\n",
              "                                                    [key], {});\n",
              "        if (!dataTable) return;\n",
              "\n",
              "        const docLinkHtml = 'Like what you see? Visit the ' +\n",
              "          '<a target=\"_blank\" href=https://colab.research.google.com/notebooks/data_table.ipynb>data table notebook</a>'\n",
              "          + ' to learn more about interactive tables.';\n",
              "        element.innerHTML = '';\n",
              "        dataTable['output_type'] = 'display_data';\n",
              "        await google.colab.output.renderOutput(dataTable, element);\n",
              "        const docLink = document.createElement('div');\n",
              "        docLink.innerHTML = docLinkHtml;\n",
              "        element.appendChild(docLink);\n",
              "      }\n",
              "    </script>\n",
              "  </div>\n",
              "\n",
              "\n",
              "<div id=\"df-1e51f0c2-afb3-4b95-8579-603adcec6438\">\n",
              "  <button class=\"colab-df-quickchart\" onclick=\"quickchart('df-1e51f0c2-afb3-4b95-8579-603adcec6438')\"\n",
              "            title=\"Suggest charts\"\n",
              "            style=\"display:none;\">\n",
              "\n",
              "<svg xmlns=\"http://www.w3.org/2000/svg\" height=\"24px\"viewBox=\"0 0 24 24\"\n",
              "     width=\"24px\">\n",
              "    <g>\n",
              "        <path d=\"M19 3H5c-1.1 0-2 .9-2 2v14c0 1.1.9 2 2 2h14c1.1 0 2-.9 2-2V5c0-1.1-.9-2-2-2zM9 17H7v-7h2v7zm4 0h-2V7h2v10zm4 0h-2v-4h2v4z\"/>\n",
              "    </g>\n",
              "</svg>\n",
              "  </button>\n",
              "\n",
              "<style>\n",
              "  .colab-df-quickchart {\n",
              "      --bg-color: #E8F0FE;\n",
              "      --fill-color: #1967D2;\n",
              "      --hover-bg-color: #E2EBFA;\n",
              "      --hover-fill-color: #174EA6;\n",
              "      --disabled-fill-color: #AAA;\n",
              "      --disabled-bg-color: #DDD;\n",
              "  }\n",
              "\n",
              "  [theme=dark] .colab-df-quickchart {\n",
              "      --bg-color: #3B4455;\n",
              "      --fill-color: #D2E3FC;\n",
              "      --hover-bg-color: #434B5C;\n",
              "      --hover-fill-color: #FFFFFF;\n",
              "      --disabled-bg-color: #3B4455;\n",
              "      --disabled-fill-color: #666;\n",
              "  }\n",
              "\n",
              "  .colab-df-quickchart {\n",
              "    background-color: var(--bg-color);\n",
              "    border: none;\n",
              "    border-radius: 50%;\n",
              "    cursor: pointer;\n",
              "    display: none;\n",
              "    fill: var(--fill-color);\n",
              "    height: 32px;\n",
              "    padding: 0;\n",
              "    width: 32px;\n",
              "  }\n",
              "\n",
              "  .colab-df-quickchart:hover {\n",
              "    background-color: var(--hover-bg-color);\n",
              "    box-shadow: 0 1px 2px rgba(60, 64, 67, 0.3), 0 1px 3px 1px rgba(60, 64, 67, 0.15);\n",
              "    fill: var(--button-hover-fill-color);\n",
              "  }\n",
              "\n",
              "  .colab-df-quickchart-complete:disabled,\n",
              "  .colab-df-quickchart-complete:disabled:hover {\n",
              "    background-color: var(--disabled-bg-color);\n",
              "    fill: var(--disabled-fill-color);\n",
              "    box-shadow: none;\n",
              "  }\n",
              "\n",
              "  .colab-df-spinner {\n",
              "    border: 2px solid var(--fill-color);\n",
              "    border-color: transparent;\n",
              "    border-bottom-color: var(--fill-color);\n",
              "    animation:\n",
              "      spin 1s steps(1) infinite;\n",
              "  }\n",
              "\n",
              "  @keyframes spin {\n",
              "    0% {\n",
              "      border-color: transparent;\n",
              "      border-bottom-color: var(--fill-color);\n",
              "      border-left-color: var(--fill-color);\n",
              "    }\n",
              "    20% {\n",
              "      border-color: transparent;\n",
              "      border-left-color: var(--fill-color);\n",
              "      border-top-color: var(--fill-color);\n",
              "    }\n",
              "    30% {\n",
              "      border-color: transparent;\n",
              "      border-left-color: var(--fill-color);\n",
              "      border-top-color: var(--fill-color);\n",
              "      border-right-color: var(--fill-color);\n",
              "    }\n",
              "    40% {\n",
              "      border-color: transparent;\n",
              "      border-right-color: var(--fill-color);\n",
              "      border-top-color: var(--fill-color);\n",
              "    }\n",
              "    60% {\n",
              "      border-color: transparent;\n",
              "      border-right-color: var(--fill-color);\n",
              "    }\n",
              "    80% {\n",
              "      border-color: transparent;\n",
              "      border-right-color: var(--fill-color);\n",
              "      border-bottom-color: var(--fill-color);\n",
              "    }\n",
              "    90% {\n",
              "      border-color: transparent;\n",
              "      border-bottom-color: var(--fill-color);\n",
              "    }\n",
              "  }\n",
              "</style>\n",
              "\n",
              "  <script>\n",
              "    async function quickchart(key) {\n",
              "      const quickchartButtonEl =\n",
              "        document.querySelector('#' + key + ' button');\n",
              "      quickchartButtonEl.disabled = true;  // To prevent multiple clicks.\n",
              "      quickchartButtonEl.classList.add('colab-df-spinner');\n",
              "      try {\n",
              "        const charts = await google.colab.kernel.invokeFunction(\n",
              "            'suggestCharts', [key], {});\n",
              "      } catch (error) {\n",
              "        console.error('Error during call to suggestCharts:', error);\n",
              "      }\n",
              "      quickchartButtonEl.classList.remove('colab-df-spinner');\n",
              "      quickchartButtonEl.classList.add('colab-df-quickchart-complete');\n",
              "    }\n",
              "    (() => {\n",
              "      let quickchartButtonEl =\n",
              "        document.querySelector('#df-1e51f0c2-afb3-4b95-8579-603adcec6438 button');\n",
              "      quickchartButtonEl.style.display =\n",
              "        google.colab.kernel.accessAllowed ? 'block' : 'none';\n",
              "    })();\n",
              "  </script>\n",
              "</div>\n",
              "    </div>\n",
              "  </div>\n"
            ],
            "text/plain": [
              "          ID                                               name   \\\n",
              "0  1000002330                    The Songs of Adelaide & Abullah   \n",
              "1  1000004038                                     Where is Hank?   \n",
              "2  1000007540  ToshiCapital Rekordz Needs Help to Complete Album   \n",
              "3  1000011046  Community Film Project: The Art of Neighborhoo...   \n",
              "4  1000014025                               Monarch Espresso Bar   \n",
              "5  1000023410  Support Solar Roasted Coffee & Green Energy!  ...   \n",
              "6  1000030581  Chaser Strips. Our Strips make Shots their B*tch!   \n",
              "7  1000034518  SPIN - Premium Retractable In-Ear Headphones w...   \n",
              "8   100004195  STUDIO IN THE SKY - A Documentary Feature Film...   \n",
              "9   100004721                                Of Jesus and Madmen   \n",
              "\n",
              "        category  main_category  currency             deadline    goal   \\\n",
              "0          Poetry     Publishing       GBP  2015-10-09 11:36:00    1000   \n",
              "1  Narrative Film   Film & Video       USD  2013-02-26 00:20:50   45000   \n",
              "2           Music          Music       USD  2012-04-16 04:24:11    5000   \n",
              "3    Film & Video   Film & Video       USD  2015-08-29 01:00:00   19500   \n",
              "4     Restaurants           Food       USD  2016-04-01 13:38:27   50000   \n",
              "5            Food           Food       USD  2014-12-21 18:30:44    1000   \n",
              "6          Drinks           Food       USD  2016-03-17 19:05:12   25000   \n",
              "7  Product Design         Design       USD  2014-05-29 18:14:43  125000   \n",
              "8     Documentary   Film & Video       USD  2014-08-10 21:55:48   65000   \n",
              "9      Nonfiction     Publishing       CAD  2013-10-09 18:19:37    2500   \n",
              "\n",
              "             launched  pledged       state  backers  country  usd pledged   \\\n",
              "0  2015-08-11 12:12:28        0      failed        0       GB            0   \n",
              "1  2013-01-12 00:20:50      220      failed        3       US          220   \n",
              "2  2012-03-17 03:24:11        1      failed        1       US            1   \n",
              "3  2015-07-04 08:35:03     1283    canceled       14       US         1283   \n",
              "4  2016-02-26 13:38:27    52375  successful      224       US        52375   \n",
              "5  2014-12-01 18:30:44     1205  successful       16       US         1205   \n",
              "6  2016-02-01 20:05:12      453      failed       40       US          453   \n",
              "7  2014-04-24 18:14:43     8233    canceled       58       US         8233   \n",
              "8  2014-07-11 21:55:48  6240.57    canceled       43       US      6240.57   \n",
              "9  2013-09-09 18:19:37        0      failed        0       CA            0   \n",
              "\n",
              "  Unnamed: 13 Unnamed: 14 Unnamed: 15  Unnamed: 16  \n",
              "0         NaN         NaN         NaN          NaN  \n",
              "1         NaN         NaN         NaN          NaN  \n",
              "2         NaN         NaN         NaN          NaN  \n",
              "3         NaN         NaN         NaN          NaN  \n",
              "4         NaN         NaN         NaN          NaN  \n",
              "5         NaN         NaN         NaN          NaN  \n",
              "6         NaN         NaN         NaN          NaN  \n",
              "7         NaN         NaN         NaN          NaN  \n",
              "8         NaN         NaN         NaN          NaN  \n",
              "9         NaN         NaN         NaN          NaN  "
            ]
          },
          "execution_count": 3,
          "metadata": {},
          "output_type": "execute_result"
        }
      ],
      "source": [
        "print(\"Les premières lignes du DataFrame :\")\n",
        "ks.head(10)"
      ]
    },
    {
      "cell_type": "markdown",
      "metadata": {
        "id": "hf1yD4L43h5x"
      },
      "source": [
        "2. Informations générales sur les données"
      ]
    },
    {
      "cell_type": "code",
      "execution_count": 4,
      "metadata": {
        "colab": {
          "base_uri": "https://localhost:8080/"
        },
        "id": "uX1Xz5GR3h5x",
        "outputId": "41a82085-aec6-4aee-c96c-1f1a50df53ee"
      },
      "outputs": [
        {
          "name": "stdout",
          "output_type": "stream",
          "text": [
            "\n",
            "Informations générales sur les données :\n",
            "<class 'pandas.core.frame.DataFrame'>\n",
            "RangeIndex: 284564 entries, 0 to 284563\n",
            "Data columns (total 17 columns):\n",
            " #   Column          Non-Null Count   Dtype  \n",
            "---  ------          --------------   -----  \n",
            " 0   ID              284564 non-null  int64  \n",
            " 1   name            284561 non-null  object \n",
            " 2   category        284559 non-null  object \n",
            " 3   main_category   284564 non-null  object \n",
            " 4   currency        284563 non-null  object \n",
            " 5   deadline        284563 non-null  object \n",
            " 6   goal            284563 non-null  object \n",
            " 7   launched        284563 non-null  object \n",
            " 8   pledged         284563 non-null  object \n",
            " 9   state           284563 non-null  object \n",
            " 10  backers         284563 non-null  object \n",
            " 11  country         284563 non-null  object \n",
            " 12  usd pledged     281244 non-null  object \n",
            " 13  Unnamed: 13     547 non-null     object \n",
            " 14  Unnamed: 14     11 non-null      object \n",
            " 15  Unnamed: 15     4 non-null       object \n",
            " 16  Unnamed: 16     1 non-null       float64\n",
            "dtypes: float64(1), int64(1), object(15)\n",
            "memory usage: 36.9+ MB\n"
          ]
        }
      ],
      "source": [
        "print(\"\\nInformations générales sur les données :\")\n",
        "ks.info()"
      ]
    },
    {
      "cell_type": "markdown",
      "metadata": {
        "id": "5-ROKQJE3h5y"
      },
      "source": [
        "3. Statistiques descriptives pour les variables numériques"
      ]
    },
    {
      "cell_type": "code",
      "execution_count": 5,
      "metadata": {
        "colab": {
          "base_uri": "https://localhost:8080/",
          "height": 335
        },
        "id": "5iVgzDcs3h5y",
        "outputId": "391959c1-0490-4e77-aa03-15eb36a0f2f6"
      },
      "outputs": [
        {
          "name": "stdout",
          "output_type": "stream",
          "text": [
            "\n",
            "Statistiques descriptives pour les variables numériques :\n"
          ]
        },
        {
          "data": {
            "text/html": [
              "\n",
              "  <div id=\"df-3df740b8-0aec-4afa-b87b-f9cf98686bd6\" class=\"colab-df-container\">\n",
              "    <div>\n",
              "<style scoped>\n",
              "    .dataframe tbody tr th:only-of-type {\n",
              "        vertical-align: middle;\n",
              "    }\n",
              "\n",
              "    .dataframe tbody tr th {\n",
              "        vertical-align: top;\n",
              "    }\n",
              "\n",
              "    .dataframe thead th {\n",
              "        text-align: right;\n",
              "    }\n",
              "</style>\n",
              "<table border=\"1\" class=\"dataframe\">\n",
              "  <thead>\n",
              "    <tr style=\"text-align: right;\">\n",
              "      <th></th>\n",
              "      <th>ID</th>\n",
              "      <th>Unnamed: 16</th>\n",
              "    </tr>\n",
              "  </thead>\n",
              "  <tbody>\n",
              "    <tr>\n",
              "      <th>count</th>\n",
              "      <td>2.845640e+05</td>\n",
              "      <td>1.0</td>\n",
              "    </tr>\n",
              "    <tr>\n",
              "      <th>mean</th>\n",
              "      <td>1.112168e+09</td>\n",
              "      <td>25.0</td>\n",
              "    </tr>\n",
              "    <tr>\n",
              "      <th>std</th>\n",
              "      <td>6.454746e+08</td>\n",
              "      <td>NaN</td>\n",
              "    </tr>\n",
              "    <tr>\n",
              "      <th>min</th>\n",
              "      <td>5.971000e+03</td>\n",
              "      <td>25.0</td>\n",
              "    </tr>\n",
              "    <tr>\n",
              "      <th>25%</th>\n",
              "      <td>4.976235e+08</td>\n",
              "      <td>25.0</td>\n",
              "    </tr>\n",
              "    <tr>\n",
              "      <th>50%</th>\n",
              "      <td>1.206068e+09</td>\n",
              "      <td>25.0</td>\n",
              "    </tr>\n",
              "    <tr>\n",
              "      <th>75%</th>\n",
              "      <td>1.674918e+09</td>\n",
              "      <td>25.0</td>\n",
              "    </tr>\n",
              "    <tr>\n",
              "      <th>max</th>\n",
              "      <td>2.147476e+09</td>\n",
              "      <td>25.0</td>\n",
              "    </tr>\n",
              "  </tbody>\n",
              "</table>\n",
              "</div>\n",
              "    <div class=\"colab-df-buttons\">\n",
              "\n",
              "  <div class=\"colab-df-container\">\n",
              "    <button class=\"colab-df-convert\" onclick=\"convertToInteractive('df-3df740b8-0aec-4afa-b87b-f9cf98686bd6')\"\n",
              "            title=\"Convert this dataframe to an interactive table.\"\n",
              "            style=\"display:none;\">\n",
              "\n",
              "  <svg xmlns=\"http://www.w3.org/2000/svg\" height=\"24px\" viewBox=\"0 -960 960 960\">\n",
              "    <path d=\"M120-120v-720h720v720H120Zm60-500h600v-160H180v160Zm220 220h160v-160H400v160Zm0 220h160v-160H400v160ZM180-400h160v-160H180v160Zm440 0h160v-160H620v160ZM180-180h160v-160H180v160Zm440 0h160v-160H620v160Z\"/>\n",
              "  </svg>\n",
              "    </button>\n",
              "\n",
              "  <style>\n",
              "    .colab-df-container {\n",
              "      display:flex;\n",
              "      gap: 12px;\n",
              "    }\n",
              "\n",
              "    .colab-df-convert {\n",
              "      background-color: #E8F0FE;\n",
              "      border: none;\n",
              "      border-radius: 50%;\n",
              "      cursor: pointer;\n",
              "      display: none;\n",
              "      fill: #1967D2;\n",
              "      height: 32px;\n",
              "      padding: 0 0 0 0;\n",
              "      width: 32px;\n",
              "    }\n",
              "\n",
              "    .colab-df-convert:hover {\n",
              "      background-color: #E2EBFA;\n",
              "      box-shadow: 0px 1px 2px rgba(60, 64, 67, 0.3), 0px 1px 3px 1px rgba(60, 64, 67, 0.15);\n",
              "      fill: #174EA6;\n",
              "    }\n",
              "\n",
              "    .colab-df-buttons div {\n",
              "      margin-bottom: 4px;\n",
              "    }\n",
              "\n",
              "    [theme=dark] .colab-df-convert {\n",
              "      background-color: #3B4455;\n",
              "      fill: #D2E3FC;\n",
              "    }\n",
              "\n",
              "    [theme=dark] .colab-df-convert:hover {\n",
              "      background-color: #434B5C;\n",
              "      box-shadow: 0px 1px 3px 1px rgba(0, 0, 0, 0.15);\n",
              "      filter: drop-shadow(0px 1px 2px rgba(0, 0, 0, 0.3));\n",
              "      fill: #FFFFFF;\n",
              "    }\n",
              "  </style>\n",
              "\n",
              "    <script>\n",
              "      const buttonEl =\n",
              "        document.querySelector('#df-3df740b8-0aec-4afa-b87b-f9cf98686bd6 button.colab-df-convert');\n",
              "      buttonEl.style.display =\n",
              "        google.colab.kernel.accessAllowed ? 'block' : 'none';\n",
              "\n",
              "      async function convertToInteractive(key) {\n",
              "        const element = document.querySelector('#df-3df740b8-0aec-4afa-b87b-f9cf98686bd6');\n",
              "        const dataTable =\n",
              "          await google.colab.kernel.invokeFunction('convertToInteractive',\n",
              "                                                    [key], {});\n",
              "        if (!dataTable) return;\n",
              "\n",
              "        const docLinkHtml = 'Like what you see? Visit the ' +\n",
              "          '<a target=\"_blank\" href=https://colab.research.google.com/notebooks/data_table.ipynb>data table notebook</a>'\n",
              "          + ' to learn more about interactive tables.';\n",
              "        element.innerHTML = '';\n",
              "        dataTable['output_type'] = 'display_data';\n",
              "        await google.colab.output.renderOutput(dataTable, element);\n",
              "        const docLink = document.createElement('div');\n",
              "        docLink.innerHTML = docLinkHtml;\n",
              "        element.appendChild(docLink);\n",
              "      }\n",
              "    </script>\n",
              "  </div>\n",
              "\n",
              "\n",
              "<div id=\"df-50301cc4-dc28-4a53-8c0d-fc63dedfe641\">\n",
              "  <button class=\"colab-df-quickchart\" onclick=\"quickchart('df-50301cc4-dc28-4a53-8c0d-fc63dedfe641')\"\n",
              "            title=\"Suggest charts\"\n",
              "            style=\"display:none;\">\n",
              "\n",
              "<svg xmlns=\"http://www.w3.org/2000/svg\" height=\"24px\"viewBox=\"0 0 24 24\"\n",
              "     width=\"24px\">\n",
              "    <g>\n",
              "        <path d=\"M19 3H5c-1.1 0-2 .9-2 2v14c0 1.1.9 2 2 2h14c1.1 0 2-.9 2-2V5c0-1.1-.9-2-2-2zM9 17H7v-7h2v7zm4 0h-2V7h2v10zm4 0h-2v-4h2v4z\"/>\n",
              "    </g>\n",
              "</svg>\n",
              "  </button>\n",
              "\n",
              "<style>\n",
              "  .colab-df-quickchart {\n",
              "      --bg-color: #E8F0FE;\n",
              "      --fill-color: #1967D2;\n",
              "      --hover-bg-color: #E2EBFA;\n",
              "      --hover-fill-color: #174EA6;\n",
              "      --disabled-fill-color: #AAA;\n",
              "      --disabled-bg-color: #DDD;\n",
              "  }\n",
              "\n",
              "  [theme=dark] .colab-df-quickchart {\n",
              "      --bg-color: #3B4455;\n",
              "      --fill-color: #D2E3FC;\n",
              "      --hover-bg-color: #434B5C;\n",
              "      --hover-fill-color: #FFFFFF;\n",
              "      --disabled-bg-color: #3B4455;\n",
              "      --disabled-fill-color: #666;\n",
              "  }\n",
              "\n",
              "  .colab-df-quickchart {\n",
              "    background-color: var(--bg-color);\n",
              "    border: none;\n",
              "    border-radius: 50%;\n",
              "    cursor: pointer;\n",
              "    display: none;\n",
              "    fill: var(--fill-color);\n",
              "    height: 32px;\n",
              "    padding: 0;\n",
              "    width: 32px;\n",
              "  }\n",
              "\n",
              "  .colab-df-quickchart:hover {\n",
              "    background-color: var(--hover-bg-color);\n",
              "    box-shadow: 0 1px 2px rgba(60, 64, 67, 0.3), 0 1px 3px 1px rgba(60, 64, 67, 0.15);\n",
              "    fill: var(--button-hover-fill-color);\n",
              "  }\n",
              "\n",
              "  .colab-df-quickchart-complete:disabled,\n",
              "  .colab-df-quickchart-complete:disabled:hover {\n",
              "    background-color: var(--disabled-bg-color);\n",
              "    fill: var(--disabled-fill-color);\n",
              "    box-shadow: none;\n",
              "  }\n",
              "\n",
              "  .colab-df-spinner {\n",
              "    border: 2px solid var(--fill-color);\n",
              "    border-color: transparent;\n",
              "    border-bottom-color: var(--fill-color);\n",
              "    animation:\n",
              "      spin 1s steps(1) infinite;\n",
              "  }\n",
              "\n",
              "  @keyframes spin {\n",
              "    0% {\n",
              "      border-color: transparent;\n",
              "      border-bottom-color: var(--fill-color);\n",
              "      border-left-color: var(--fill-color);\n",
              "    }\n",
              "    20% {\n",
              "      border-color: transparent;\n",
              "      border-left-color: var(--fill-color);\n",
              "      border-top-color: var(--fill-color);\n",
              "    }\n",
              "    30% {\n",
              "      border-color: transparent;\n",
              "      border-left-color: var(--fill-color);\n",
              "      border-top-color: var(--fill-color);\n",
              "      border-right-color: var(--fill-color);\n",
              "    }\n",
              "    40% {\n",
              "      border-color: transparent;\n",
              "      border-right-color: var(--fill-color);\n",
              "      border-top-color: var(--fill-color);\n",
              "    }\n",
              "    60% {\n",
              "      border-color: transparent;\n",
              "      border-right-color: var(--fill-color);\n",
              "    }\n",
              "    80% {\n",
              "      border-color: transparent;\n",
              "      border-right-color: var(--fill-color);\n",
              "      border-bottom-color: var(--fill-color);\n",
              "    }\n",
              "    90% {\n",
              "      border-color: transparent;\n",
              "      border-bottom-color: var(--fill-color);\n",
              "    }\n",
              "  }\n",
              "</style>\n",
              "\n",
              "  <script>\n",
              "    async function quickchart(key) {\n",
              "      const quickchartButtonEl =\n",
              "        document.querySelector('#' + key + ' button');\n",
              "      quickchartButtonEl.disabled = true;  // To prevent multiple clicks.\n",
              "      quickchartButtonEl.classList.add('colab-df-spinner');\n",
              "      try {\n",
              "        const charts = await google.colab.kernel.invokeFunction(\n",
              "            'suggestCharts', [key], {});\n",
              "      } catch (error) {\n",
              "        console.error('Error during call to suggestCharts:', error);\n",
              "      }\n",
              "      quickchartButtonEl.classList.remove('colab-df-spinner');\n",
              "      quickchartButtonEl.classList.add('colab-df-quickchart-complete');\n",
              "    }\n",
              "    (() => {\n",
              "      let quickchartButtonEl =\n",
              "        document.querySelector('#df-50301cc4-dc28-4a53-8c0d-fc63dedfe641 button');\n",
              "      quickchartButtonEl.style.display =\n",
              "        google.colab.kernel.accessAllowed ? 'block' : 'none';\n",
              "    })();\n",
              "  </script>\n",
              "</div>\n",
              "    </div>\n",
              "  </div>\n"
            ],
            "text/plain": [
              "                ID   Unnamed: 16\n",
              "count  2.845640e+05          1.0\n",
              "mean   1.112168e+09         25.0\n",
              "std    6.454746e+08          NaN\n",
              "min    5.971000e+03         25.0\n",
              "25%    4.976235e+08         25.0\n",
              "50%    1.206068e+09         25.0\n",
              "75%    1.674918e+09         25.0\n",
              "max    2.147476e+09         25.0"
            ]
          },
          "execution_count": 5,
          "metadata": {},
          "output_type": "execute_result"
        }
      ],
      "source": [
        "print(\"\\nStatistiques descriptives pour les variables numériques :\")\n",
        "ks.describe()"
      ]
    },
    {
      "cell_type": "markdown",
      "metadata": {
        "id": "Se6WIhY63h5y"
      },
      "source": [
        "4. Vérifier les valeurs manquantes"
      ]
    },
    {
      "cell_type": "code",
      "execution_count": 6,
      "metadata": {
        "colab": {
          "base_uri": "https://localhost:8080/"
        },
        "id": "GzpDx7Ad3h5z",
        "outputId": "7aceed56-a370-4cac-d718-23b484c7e3bf"
      },
      "outputs": [
        {
          "data": {
            "text/plain": [
              "Index(['ID ', 'name ', 'category ', 'main_category ', 'currency ', 'deadline ',\n",
              "       'goal ', 'launched ', 'pledged ', 'state ', 'backers ', 'country ',\n",
              "       'usd pledged ', 'Unnamed: 13', 'Unnamed: 14', 'Unnamed: 15',\n",
              "       'Unnamed: 16'],\n",
              "      dtype='object')"
            ]
          },
          "execution_count": 6,
          "metadata": {},
          "output_type": "execute_result"
        }
      ],
      "source": [
        "ks.columns"
      ]
    },
    {
      "cell_type": "code",
      "execution_count": 7,
      "metadata": {
        "id": "QwvcFY8M3h5z"
      },
      "outputs": [],
      "source": [
        "ks.columns = ks.columns.str.strip()"
      ]
    },
    {
      "cell_type": "code",
      "execution_count": 8,
      "metadata": {
        "colab": {
          "base_uri": "https://localhost:8080/"
        },
        "id": "fN45t0qS3h50",
        "outputId": "ba417886-079e-49e6-9db7-4d07a018e666"
      },
      "outputs": [
        {
          "data": {
            "text/plain": [
              "Index(['ID', 'name', 'category', 'main_category', 'currency', 'deadline',\n",
              "       'goal', 'launched', 'pledged', 'state', 'backers', 'country',\n",
              "       'usd pledged', 'Unnamed: 13', 'Unnamed: 14', 'Unnamed: 15',\n",
              "       'Unnamed: 16'],\n",
              "      dtype='object')"
            ]
          },
          "execution_count": 8,
          "metadata": {},
          "output_type": "execute_result"
        }
      ],
      "source": [
        "ks.columns"
      ]
    },
    {
      "cell_type": "code",
      "execution_count": 9,
      "metadata": {
        "colab": {
          "base_uri": "https://localhost:8080/"
        },
        "id": "nkWyVubi3h50",
        "outputId": "16eb4aaf-413a-46f4-f133-655a9b6c818c"
      },
      "outputs": [
        {
          "name": "stdout",
          "output_type": "stream",
          "text": [
            "\n",
            "Vérifier les valeurs manquantes :\n"
          ]
        },
        {
          "data": {
            "text/plain": [
              "ID                    0\n",
              "name                  3\n",
              "category              5\n",
              "main_category         0\n",
              "currency              1\n",
              "deadline              1\n",
              "goal                  1\n",
              "launched              1\n",
              "pledged               1\n",
              "state                 1\n",
              "backers               1\n",
              "country               1\n",
              "usd pledged        3320\n",
              "Unnamed: 13      284017\n",
              "Unnamed: 14      284553\n",
              "Unnamed: 15      284560\n",
              "Unnamed: 16      284563\n",
              "dtype: int64"
            ]
          },
          "execution_count": 9,
          "metadata": {},
          "output_type": "execute_result"
        }
      ],
      "source": [
        "print(\"\\nVérifier les valeurs manquantes :\")\n",
        "ks.isnull().sum()"
      ]
    },
    {
      "cell_type": "markdown",
      "metadata": {
        "id": "cMQRgx_w3h50"
      },
      "source": [
        "## pourcentage de valeurs manquantes par colonne du nouveau DataFrame"
      ]
    },
    {
      "cell_type": "code",
      "execution_count": 10,
      "metadata": {
        "colab": {
          "base_uri": "https://localhost:8080/",
          "height": 490
        },
        "id": "6NoaC-zr3h50",
        "outputId": "5e88740c-06f3-4db6-b7c3-98069b2d823e"
      },
      "outputs": [
        {
          "data": {
            "image/png": "[encoded data removed]",
            "text/plain": [
              "<Figure size 1200x600 with 1 Axes>"
            ]
          },
          "metadata": {},
          "output_type": "display_data"
        }
      ],
      "source": [
        "import matplotlib.pyplot as plt\n",
        "import seaborn as sns\n",
        "\n",
        "# Pourcentage de valeurs manquantes par colonne\n",
        "missing_percentage = (ks.isnull().sum() / len(ks)) * 100\n",
        "\n",
        "# DataFrame pour faciliter la manipulation\n",
        "missing_values_df = pd.DataFrame({'Column': ks.columns, 'MissingPercentage': missing_percentage})\n",
        "\n",
        "# Pourcentage de valeurs manquantes\n",
        "missing_values_df = missing_values_df.sort_values(by='MissingPercentage', ascending=False)\n",
        "\n",
        "# Graphique à barres\n",
        "plt.figure(figsize=(12, 6))\n",
        "sns.barplot(x='MissingPercentage', y='Column', data=missing_values_df, palette='viridis')\n",
        "plt.title('Pourcentage de Valeurs Manquantes par Colonne')\n",
        "plt.xlabel('Pourcentage de Valeurs Manquantes')\n",
        "plt.ylabel('Colonne')\n",
        "plt.show()\n"
      ]
    },
    {
      "cell_type": "markdown",
      "metadata": {
        "id": "gMUrVPkQ3h51"
      },
      "source": [
        "a. Supprimer les colonnes inutiles"
      ]
    },
    {
      "cell_type": "code",
      "execution_count": 11,
      "metadata": {
        "id": "4uZITa-_3h51"
      },
      "outputs": [],
      "source": [
        "ks = ks.drop(columns=['usd pledged','Unnamed: 13','Unnamed: 14','Unnamed: 15','Unnamed: 16'])"
      ]
    },
    {
      "cell_type": "code",
      "execution_count": 12,
      "metadata": {
        "colab": {
          "base_uri": "https://localhost:8080/"
        },
        "id": "BEyHtYGs3h51",
        "outputId": "7d5ca6a5-14f3-4802-e6f8-ee47b528fc4b"
      },
      "outputs": [
        {
          "name": "stdout",
          "output_type": "stream",
          "text": [
            "\n",
            "Vérifier les valeurs manquantes :\n"
          ]
        },
        {
          "data": {
            "text/plain": [
              "ID               0\n",
              "name             3\n",
              "category         5\n",
              "main_category    0\n",
              "currency         1\n",
              "deadline         1\n",
              "goal             1\n",
              "launched         1\n",
              "pledged          1\n",
              "state            1\n",
              "backers          1\n",
              "country          1\n",
              "dtype: int64"
            ]
          },
          "execution_count": 12,
          "metadata": {},
          "output_type": "execute_result"
        }
      ],
      "source": [
        "print(\"\\nVérifier les valeurs manquantes :\")\n",
        "ks.isnull().sum()"
      ]
    },
    {
      "cell_type": "markdown",
      "metadata": {
        "id": "zP3cR5ID3h52"
      },
      "source": [
        "Utilisons la fonction `dropna` pour supprimer les lignes avec des valeurs manquantes dans les champs 'category' et 'name'\n",
        "   ```"
      ]
    },
    {
      "cell_type": "code",
      "execution_count": 13,
      "metadata": {
        "id": "f9WdHDpe3h52"
      },
      "outputs": [],
      "source": [
        "ks.dropna(subset=['category', 'name'], inplace=True)"
      ]
    },
    {
      "cell_type": "code",
      "execution_count": 14,
      "metadata": {
        "colab": {
          "base_uri": "https://localhost:8080/"
        },
        "id": "g9T1mUj93h52",
        "outputId": "df154316-6dff-48e9-e0a0-bf18eb189bd9"
      },
      "outputs": [
        {
          "name": "stdout",
          "output_type": "stream",
          "text": [
            "\n",
            "Vérifier les valeurs manquantes :\n"
          ]
        },
        {
          "data": {
            "text/plain": [
              "ID               0\n",
              "name             0\n",
              "category         0\n",
              "main_category    0\n",
              "currency         1\n",
              "deadline         1\n",
              "goal             1\n",
              "launched         1\n",
              "pledged          1\n",
              "state            1\n",
              "backers          1\n",
              "country          1\n",
              "dtype: int64"
            ]
          },
          "execution_count": 14,
          "metadata": {},
          "output_type": "execute_result"
        }
      ],
      "source": [
        "print(\"\\nVérifier les valeurs manquantes :\")\n",
        "ks.isnull().sum()"
      ]
    },
    {
      "cell_type": "markdown",
      "metadata": {
        "id": "udn2Ti8v3h52"
      },
      "source": [
        "8. Identifier les doublons"
      ]
    },
    {
      "cell_type": "code",
      "execution_count": 15,
      "metadata": {
        "colab": {
          "base_uri": "https://localhost:8080/"
        },
        "id": "VYgmqYV93h52",
        "outputId": "c50b9970-9573-40b2-e302-1e912839f9f2"
      },
      "outputs": [
        {
          "name": "stdout",
          "output_type": "stream",
          "text": [
            "\n",
            "Identifier les doublons :\n"
          ]
        },
        {
          "data": {
            "text/plain": [
              "0"
            ]
          },
          "execution_count": 15,
          "metadata": {},
          "output_type": "execute_result"
        }
      ],
      "source": [
        "print(\"\\nIdentifier les doublons :\")\n",
        "ks.duplicated().sum()"
      ]
    },
    {
      "cell_type": "code",
      "execution_count": 16,
      "metadata": {
        "colab": {
          "base_uri": "https://localhost:8080/",
          "height": 452
        },
        "id": "0tfnsQ2S3h52",
        "outputId": "c52a428d-d650-4e94-c8b8-f94bc9b1a821"
      },
      "outputs": [
        {
          "data": {
            "text/html": [
              "\n",
              "  <div id=\"df-772eb6d8-f3f6-4db1-af8c-32617a904f16\" class=\"colab-df-container\">\n",
              "    <div>\n",
              "<style scoped>\n",
              "    .dataframe tbody tr th:only-of-type {\n",
              "        vertical-align: middle;\n",
              "    }\n",
              "\n",
              "    .dataframe tbody tr th {\n",
              "        vertical-align: top;\n",
              "    }\n",
              "\n",
              "    .dataframe thead th {\n",
              "        text-align: right;\n",
              "    }\n",
              "</style>\n",
              "<table border=\"1\" class=\"dataframe\">\n",
              "  <thead>\n",
              "    <tr style=\"text-align: right;\">\n",
              "      <th></th>\n",
              "      <th>ID</th>\n",
              "      <th>name</th>\n",
              "      <th>category</th>\n",
              "      <th>main_category</th>\n",
              "      <th>currency</th>\n",
              "      <th>deadline</th>\n",
              "      <th>goal</th>\n",
              "      <th>launched</th>\n",
              "      <th>pledged</th>\n",
              "      <th>state</th>\n",
              "      <th>backers</th>\n",
              "      <th>country</th>\n",
              "    </tr>\n",
              "  </thead>\n",
              "  <tbody>\n",
              "    <tr>\n",
              "      <th>0</th>\n",
              "      <td>1000002330</td>\n",
              "      <td>The Songs of Adelaide &amp; Abullah</td>\n",
              "      <td>Poetry</td>\n",
              "      <td>Publishing</td>\n",
              "      <td>GBP</td>\n",
              "      <td>2015-10-09 11:36:00</td>\n",
              "      <td>1000</td>\n",
              "      <td>2015-08-11 12:12:28</td>\n",
              "      <td>0</td>\n",
              "      <td>failed</td>\n",
              "      <td>0</td>\n",
              "      <td>GB</td>\n",
              "    </tr>\n",
              "    <tr>\n",
              "      <th>1</th>\n",
              "      <td>1000004038</td>\n",
              "      <td>Where is Hank?</td>\n",
              "      <td>Narrative Film</td>\n",
              "      <td>Film &amp; Video</td>\n",
              "      <td>USD</td>\n",
              "      <td>2013-02-26 00:20:50</td>\n",
              "      <td>45000</td>\n",
              "      <td>2013-01-12 00:20:50</td>\n",
              "      <td>220</td>\n",
              "      <td>failed</td>\n",
              "      <td>3</td>\n",
              "      <td>US</td>\n",
              "    </tr>\n",
              "    <tr>\n",
              "      <th>2</th>\n",
              "      <td>1000007540</td>\n",
              "      <td>ToshiCapital Rekordz Needs Help to Complete Album</td>\n",
              "      <td>Music</td>\n",
              "      <td>Music</td>\n",
              "      <td>USD</td>\n",
              "      <td>2012-04-16 04:24:11</td>\n",
              "      <td>5000</td>\n",
              "      <td>2012-03-17 03:24:11</td>\n",
              "      <td>1</td>\n",
              "      <td>failed</td>\n",
              "      <td>1</td>\n",
              "      <td>US</td>\n",
              "    </tr>\n",
              "    <tr>\n",
              "      <th>3</th>\n",
              "      <td>1000011046</td>\n",
              "      <td>Community Film Project: The Art of Neighborhoo...</td>\n",
              "      <td>Film &amp; Video</td>\n",
              "      <td>Film &amp; Video</td>\n",
              "      <td>USD</td>\n",
              "      <td>2015-08-29 01:00:00</td>\n",
              "      <td>19500</td>\n",
              "      <td>2015-07-04 08:35:03</td>\n",
              "      <td>1283</td>\n",
              "      <td>canceled</td>\n",
              "      <td>14</td>\n",
              "      <td>US</td>\n",
              "    </tr>\n",
              "    <tr>\n",
              "      <th>4</th>\n",
              "      <td>1000014025</td>\n",
              "      <td>Monarch Espresso Bar</td>\n",
              "      <td>Restaurants</td>\n",
              "      <td>Food</td>\n",
              "      <td>USD</td>\n",
              "      <td>2016-04-01 13:38:27</td>\n",
              "      <td>50000</td>\n",
              "      <td>2016-02-26 13:38:27</td>\n",
              "      <td>52375</td>\n",
              "      <td>successful</td>\n",
              "      <td>224</td>\n",
              "      <td>US</td>\n",
              "    </tr>\n",
              "  </tbody>\n",
              "</table>\n",
              "</div>\n",
              "    <div class=\"colab-df-buttons\">\n",
              "\n",
              "  <div class=\"colab-df-container\">\n",
              "    <button class=\"colab-df-convert\" onclick=\"convertToInteractive('df-772eb6d8-f3f6-4db1-af8c-32617a904f16')\"\n",
              "            title=\"Convert this dataframe to an interactive table.\"\n",
              "            style=\"display:none;\">\n",
              "\n",
              "  <svg xmlns=\"http://www.w3.org/2000/svg\" height=\"24px\" viewBox=\"0 -960 960 960\">\n",
              "    <path d=\"M120-120v-720h720v720H120Zm60-500h600v-160H180v160Zm220 220h160v-160H400v160Zm0 220h160v-160H400v160ZM180-400h160v-160H180v160Zm440 0h160v-160H620v160ZM180-180h160v-160H180v160Zm440 0h160v-160H620v160Z\"/>\n",
              "  </svg>\n",
              "    </button>\n",
              "\n",
              "  <style>\n",
              "    .colab-df-container {\n",
              "      display:flex;\n",
              "      gap: 12px;\n",
              "    }\n",
              "\n",
              "    .colab-df-convert {\n",
              "      background-color: #E8F0FE;\n",
              "      border: none;\n",
              "      border-radius: 50%;\n",
              "      cursor: pointer;\n",
              "      display: none;\n",
              "      fill: #1967D2;\n",
              "      height: 32px;\n",
              "      padding: 0 0 0 0;\n",
              "      width: 32px;\n",
              "    }\n",
              "\n",
              "    .colab-df-convert:hover {\n",
              "      background-color: #E2EBFA;\n",
              "      box-shadow: 0px 1px 2px rgba(60, 64, 67, 0.3), 0px 1px 3px 1px rgba(60, 64, 67, 0.15);\n",
              "      fill: #174EA6;\n",
              "    }\n",
              "\n",
              "    .colab-df-buttons div {\n",
              "      margin-bottom: 4px;\n",
              "    }\n",
              "\n",
              "    [theme=dark] .colab-df-convert {\n",
              "      background-color: #3B4455;\n",
              "      fill: #D2E3FC;\n",
              "    }\n",
              "\n",
              "    [theme=dark] .colab-df-convert:hover {\n",
              "      background-color: #434B5C;\n",
              "      box-shadow: 0px 1px 3px 1px rgba(0, 0, 0, 0.15);\n",
              "      filter: drop-shadow(0px 1px 2px rgba(0, 0, 0, 0.3));\n",
              "      fill: #FFFFFF;\n",
              "    }\n",
              "  </style>\n",
              "\n",
              "    <script>\n",
              "      const buttonEl =\n",
              "        document.querySelector('#df-772eb6d8-f3f6-4db1-af8c-32617a904f16 button.colab-df-convert');\n",
              "      buttonEl.style.display =\n",
              "        google.colab.kernel.accessAllowed ? 'block' : 'none';\n",
              "\n",
              "      async function convertToInteractive(key) {\n",
              "        const element = document.querySelector('#df-772eb6d8-f3f6-4db1-af8c-32617a904f16');\n",
              "        const dataTable =\n",
              "          await google.colab.kernel.invokeFunction('convertToInteractive',\n",
              "                                                    [key], {});\n",
              "        if (!dataTable) return;\n",
              "\n",
              "        const docLinkHtml = 'Like what you see? Visit the ' +\n",
              "          '<a target=\"_blank\" href=https://colab.research.google.com/notebooks/data_table.ipynb>data table notebook</a>'\n",
              "          + ' to learn more about interactive tables.';\n",
              "        element.innerHTML = '';\n",
              "        dataTable['output_type'] = 'display_data';\n",
              "        await google.colab.output.renderOutput(dataTable, element);\n",
              "        const docLink = document.createElement('div');\n",
              "        docLink.innerHTML = docLinkHtml;\n",
              "        element.appendChild(docLink);\n",
              "      }\n",
              "    </script>\n",
              "  </div>\n",
              "\n",
              "\n",
              "<div id=\"df-c5ddea68-ffef-4231-a5ba-13a84a08c439\">\n",
              "  <button class=\"colab-df-quickchart\" onclick=\"quickchart('df-c5ddea68-ffef-4231-a5ba-13a84a08c439')\"\n",
              "            title=\"Suggest charts\"\n",
              "            style=\"display:none;\">\n",
              "\n",
              "<svg xmlns=\"http://www.w3.org/2000/svg\" height=\"24px\"viewBox=\"0 0 24 24\"\n",
              "     width=\"24px\">\n",
              "    <g>\n",
              "        <path d=\"M19 3H5c-1.1 0-2 .9-2 2v14c0 1.1.9 2 2 2h14c1.1 0 2-.9 2-2V5c0-1.1-.9-2-2-2zM9 17H7v-7h2v7zm4 0h-2V7h2v10zm4 0h-2v-4h2v4z\"/>\n",
              "    </g>\n",
              "</svg>\n",
              "  </button>\n",
              "\n",
              "<style>\n",
              "  .colab-df-quickchart {\n",
              "      --bg-color: #E8F0FE;\n",
              "      --fill-color: #1967D2;\n",
              "      --hover-bg-color: #E2EBFA;\n",
              "      --hover-fill-color: #174EA6;\n",
              "      --disabled-fill-color: #AAA;\n",
              "      --disabled-bg-color: #DDD;\n",
              "  }\n",
              "\n",
              "  [theme=dark] .colab-df-quickchart {\n",
              "      --bg-color: #3B4455;\n",
              "      --fill-color: #D2E3FC;\n",
              "      --hover-bg-color: #434B5C;\n",
              "      --hover-fill-color: #FFFFFF;\n",
              "      --disabled-bg-color: #3B4455;\n",
              "      --disabled-fill-color: #666;\n",
              "  }\n",
              "\n",
              "  .colab-df-quickchart {\n",
              "    background-color: var(--bg-color);\n",
              "    border: none;\n",
              "    border-radius: 50%;\n",
              "    cursor: pointer;\n",
              "    display: none;\n",
              "    fill: var(--fill-color);\n",
              "    height: 32px;\n",
              "    padding: 0;\n",
              "    width: 32px;\n",
              "  }\n",
              "\n",
              "  .colab-df-quickchart:hover {\n",
              "    background-color: var(--hover-bg-color);\n",
              "    box-shadow: 0 1px 2px rgba(60, 64, 67, 0.3), 0 1px 3px 1px rgba(60, 64, 67, 0.15);\n",
              "    fill: var(--button-hover-fill-color);\n",
              "  }\n",
              "\n",
              "  .colab-df-quickchart-complete:disabled,\n",
              "  .colab-df-quickchart-complete:disabled:hover {\n",
              "    background-color: var(--disabled-bg-color);\n",
              "    fill: var(--disabled-fill-color);\n",
              "    box-shadow: none;\n",
              "  }\n",
              "\n",
              "  .colab-df-spinner {\n",
              "    border: 2px solid var(--fill-color);\n",
              "    border-color: transparent;\n",
              "    border-bottom-color: var(--fill-color);\n",
              "    animation:\n",
              "      spin 1s steps(1) infinite;\n",
              "  }\n",
              "\n",
              "  @keyframes spin {\n",
              "    0% {\n",
              "      border-color: transparent;\n",
              "      border-bottom-color: var(--fill-color);\n",
              "      border-left-color: var(--fill-color);\n",
              "    }\n",
              "    20% {\n",
              "      border-color: transparent;\n",
              "      border-left-color: var(--fill-color);\n",
              "      border-top-color: var(--fill-color);\n",
              "    }\n",
              "    30% {\n",
              "      border-color: transparent;\n",
              "      border-left-color: var(--fill-color);\n",
              "      border-top-color: var(--fill-color);\n",
              "      border-right-color: var(--fill-color);\n",
              "    }\n",
              "    40% {\n",
              "      border-color: transparent;\n",
              "      border-right-color: var(--fill-color);\n",
              "      border-top-color: var(--fill-color);\n",
              "    }\n",
              "    60% {\n",
              "      border-color: transparent;\n",
              "      border-right-color: var(--fill-color);\n",
              "    }\n",
              "    80% {\n",
              "      border-color: transparent;\n",
              "      border-right-color: var(--fill-color);\n",
              "      border-bottom-color: var(--fill-color);\n",
              "    }\n",
              "    90% {\n",
              "      border-color: transparent;\n",
              "      border-bottom-color: var(--fill-color);\n",
              "    }\n",
              "  }\n",
              "</style>\n",
              "\n",
              "  <script>\n",
              "    async function quickchart(key) {\n",
              "      const quickchartButtonEl =\n",
              "        document.querySelector('#' + key + ' button');\n",
              "      quickchartButtonEl.disabled = true;  // To prevent multiple clicks.\n",
              "      quickchartButtonEl.classList.add('colab-df-spinner');\n",
              "      try {\n",
              "        const charts = await google.colab.kernel.invokeFunction(\n",
              "            'suggestCharts', [key], {});\n",
              "      } catch (error) {\n",
              "        console.error('Error during call to suggestCharts:', error);\n",
              "      }\n",
              "      quickchartButtonEl.classList.remove('colab-df-spinner');\n",
              "      quickchartButtonEl.classList.add('colab-df-quickchart-complete');\n",
              "    }\n",
              "    (() => {\n",
              "      let quickchartButtonEl =\n",
              "        document.querySelector('#df-c5ddea68-ffef-4231-a5ba-13a84a08c439 button');\n",
              "      quickchartButtonEl.style.display =\n",
              "        google.colab.kernel.accessAllowed ? 'block' : 'none';\n",
              "    })();\n",
              "  </script>\n",
              "</div>\n",
              "    </div>\n",
              "  </div>\n"
            ],
            "text/plain": [
              "           ID                                               name  \\\n",
              "0  1000002330                    The Songs of Adelaide & Abullah   \n",
              "1  1000004038                                     Where is Hank?   \n",
              "2  1000007540  ToshiCapital Rekordz Needs Help to Complete Album   \n",
              "3  1000011046  Community Film Project: The Art of Neighborhoo...   \n",
              "4  1000014025                               Monarch Espresso Bar   \n",
              "\n",
              "         category main_category currency             deadline   goal  \\\n",
              "0          Poetry    Publishing      GBP  2015-10-09 11:36:00   1000   \n",
              "1  Narrative Film  Film & Video      USD  2013-02-26 00:20:50  45000   \n",
              "2           Music         Music      USD  2012-04-16 04:24:11   5000   \n",
              "3    Film & Video  Film & Video      USD  2015-08-29 01:00:00  19500   \n",
              "4     Restaurants          Food      USD  2016-04-01 13:38:27  50000   \n",
              "\n",
              "              launched pledged       state backers country  \n",
              "0  2015-08-11 12:12:28       0      failed       0      GB  \n",
              "1  2013-01-12 00:20:50     220      failed       3      US  \n",
              "2  2012-03-17 03:24:11       1      failed       1      US  \n",
              "3  2015-07-04 08:35:03    1283    canceled      14      US  \n",
              "4  2016-02-26 13:38:27   52375  successful     224      US  "
            ]
          },
          "execution_count": 16,
          "metadata": {},
          "output_type": "execute_result"
        }
      ],
      "source": [
        "ks.head()"
      ]
    },
    {
      "cell_type": "markdown",
      "metadata": {
        "id": "JbJ23slD3h53"
      },
      "source": [
        "### Conversion des données"
      ]
    },
    {
      "cell_type": "markdown",
      "metadata": {
        "id": "To8IsAxM3h53"
      },
      "source": [
        "Ce script utilise pd.to_datetime pour convertir les colonnes de date en format datetime, pd.to_numeric pour convertir les colonnes numériques en nombres, et dropna pour supprimer les lignes avec des valeurs manquantes dans les colonnes spécifiées."
      ]
    },
    {
      "cell_type": "code",
      "execution_count": 17,
      "metadata": {
        "colab": {
          "base_uri": "https://localhost:8080/"
        },
        "id": "kiMhIGIL3h53",
        "outputId": "88e7de8e-c502-47c6-a895-b6a3d4b666b7"
      },
      "outputs": [
        {
          "name": "stdout",
          "output_type": "stream",
          "text": [
            "<class 'pandas.core.frame.DataFrame'>\n",
            "Int64Index: 284006 entries, 0 to 284562\n",
            "Data columns (total 12 columns):\n",
            " #   Column         Non-Null Count   Dtype         \n",
            "---  ------         --------------   -----         \n",
            " 0   ID             284006 non-null  int64         \n",
            " 1   name           284006 non-null  object        \n",
            " 2   category       284006 non-null  object        \n",
            " 3   main_category  284006 non-null  object        \n",
            " 4   currency       284006 non-null  object        \n",
            " 5   deadline       284006 non-null  datetime64[ns]\n",
            " 6   goal           284006 non-null  float64       \n",
            " 7   launched       284006 non-null  datetime64[ns]\n",
            " 8   pledged        284006 non-null  float64       \n",
            " 9   state          284006 non-null  object        \n",
            " 10  backers        284006 non-null  float64       \n",
            " 11  country        284006 non-null  object        \n",
            "dtypes: datetime64[ns](2), float64(3), int64(1), object(6)\n",
            "memory usage: 28.2+ MB\n",
            "None\n"
          ]
        }
      ],
      "source": [
        "# Conversion des colonnes 'deadline' et 'launched' en format datetime\n",
        "ks['deadline'] = pd.to_datetime(ks['deadline'], errors='coerce')\n",
        "ks['launched'] = pd.to_datetime(ks['launched'], errors='coerce')\n",
        "\n",
        "# Conversion des colonnes 'goal', 'pledged', 'backers' en nombre\n",
        "ks['goal'] = pd.to_numeric(ks['goal'], errors='coerce')\n",
        "ks['pledged'] = pd.to_numeric(ks['pledged'], errors='coerce')\n",
        "ks['backers'] = pd.to_numeric(ks['backers'], errors='coerce')\n",
        "\n",
        "# Suppression des lignes avec des valeurs manquantes dans les colonnes spécifiées\n",
        "ks = ks.dropna(subset=['ID', 'name', 'category', 'main_category', 'currency', 'deadline',\n",
        "                        'goal', 'launched', 'pledged', 'state', 'backers', 'country'])\n",
        "\n",
        "# Afficher les informations sur le nouveau jeu de données\n",
        "print(ks.info())"
      ]
    },
    {
      "cell_type": "code",
      "execution_count": 18,
      "metadata": {
        "colab": {
          "base_uri": "https://localhost:8080/",
          "height": 912
        },
        "id": "feZeJ2Wt3h53",
        "outputId": "bf6bf6d4-c5df-462e-d288-71848800e9f5"
      },
      "outputs": [
        {
          "data": {
            "text/html": [
              "\n",
              "  <div id=\"df-b8b7c65e-ba68-4114-89ef-00c2f5118826\" class=\"colab-df-container\">\n",
              "    <div>\n",
              "<style scoped>\n",
              "    .dataframe tbody tr th:only-of-type {\n",
              "        vertical-align: middle;\n",
              "    }\n",
              "\n",
              "    .dataframe tbody tr th {\n",
              "        vertical-align: top;\n",
              "    }\n",
              "\n",
              "    .dataframe thead th {\n",
              "        text-align: right;\n",
              "    }\n",
              "</style>\n",
              "<table border=\"1\" class=\"dataframe\">\n",
              "  <thead>\n",
              "    <tr style=\"text-align: right;\">\n",
              "      <th></th>\n",
              "      <th>ID</th>\n",
              "      <th>name</th>\n",
              "      <th>category</th>\n",
              "      <th>main_category</th>\n",
              "      <th>currency</th>\n",
              "      <th>deadline</th>\n",
              "      <th>goal</th>\n",
              "      <th>launched</th>\n",
              "      <th>pledged</th>\n",
              "      <th>state</th>\n",
              "      <th>backers</th>\n",
              "      <th>country</th>\n",
              "    </tr>\n",
              "  </thead>\n",
              "  <tbody>\n",
              "    <tr>\n",
              "      <th>0</th>\n",
              "      <td>1000002330</td>\n",
              "      <td>The Songs of Adelaide &amp; Abullah</td>\n",
              "      <td>Poetry</td>\n",
              "      <td>Publishing</td>\n",
              "      <td>GBP</td>\n",
              "      <td>2015-10-09 11:36:00</td>\n",
              "      <td>1000.0</td>\n",
              "      <td>2015-08-11 12:12:28</td>\n",
              "      <td>0.0</td>\n",
              "      <td>failed</td>\n",
              "      <td>0.0</td>\n",
              "      <td>GB</td>\n",
              "    </tr>\n",
              "    <tr>\n",
              "      <th>1</th>\n",
              "      <td>1000004038</td>\n",
              "      <td>Where is Hank?</td>\n",
              "      <td>Narrative Film</td>\n",
              "      <td>Film &amp; Video</td>\n",
              "      <td>USD</td>\n",
              "      <td>2013-02-26 00:20:50</td>\n",
              "      <td>45000.0</td>\n",
              "      <td>2013-01-12 00:20:50</td>\n",
              "      <td>220.0</td>\n",
              "      <td>failed</td>\n",
              "      <td>3.0</td>\n",
              "      <td>US</td>\n",
              "    </tr>\n",
              "    <tr>\n",
              "      <th>2</th>\n",
              "      <td>1000007540</td>\n",
              "      <td>ToshiCapital Rekordz Needs Help to Complete Album</td>\n",
              "      <td>Music</td>\n",
              "      <td>Music</td>\n",
              "      <td>USD</td>\n",
              "      <td>2012-04-16 04:24:11</td>\n",
              "      <td>5000.0</td>\n",
              "      <td>2012-03-17 03:24:11</td>\n",
              "      <td>1.0</td>\n",
              "      <td>failed</td>\n",
              "      <td>1.0</td>\n",
              "      <td>US</td>\n",
              "    </tr>\n",
              "    <tr>\n",
              "      <th>3</th>\n",
              "      <td>1000011046</td>\n",
              "      <td>Community Film Project: The Art of Neighborhoo...</td>\n",
              "      <td>Film &amp; Video</td>\n",
              "      <td>Film &amp; Video</td>\n",
              "      <td>USD</td>\n",
              "      <td>2015-08-29 01:00:00</td>\n",
              "      <td>19500.0</td>\n",
              "      <td>2015-07-04 08:35:03</td>\n",
              "      <td>1283.0</td>\n",
              "      <td>canceled</td>\n",
              "      <td>14.0</td>\n",
              "      <td>US</td>\n",
              "    </tr>\n",
              "    <tr>\n",
              "      <th>4</th>\n",
              "      <td>1000014025</td>\n",
              "      <td>Monarch Espresso Bar</td>\n",
              "      <td>Restaurants</td>\n",
              "      <td>Food</td>\n",
              "      <td>USD</td>\n",
              "      <td>2016-04-01 13:38:27</td>\n",
              "      <td>50000.0</td>\n",
              "      <td>2016-02-26 13:38:27</td>\n",
              "      <td>52375.0</td>\n",
              "      <td>successful</td>\n",
              "      <td>224.0</td>\n",
              "      <td>US</td>\n",
              "    </tr>\n",
              "    <tr>\n",
              "      <th>...</th>\n",
              "      <td>...</td>\n",
              "      <td>...</td>\n",
              "      <td>...</td>\n",
              "      <td>...</td>\n",
              "      <td>...</td>\n",
              "      <td>...</td>\n",
              "      <td>...</td>\n",
              "      <td>...</td>\n",
              "      <td>...</td>\n",
              "      <td>...</td>\n",
              "      <td>...</td>\n",
              "      <td>...</td>\n",
              "    </tr>\n",
              "    <tr>\n",
              "      <th>284558</th>\n",
              "      <td>764683452</td>\n",
              "      <td>Revival of the SHRED! Halfpipe reconstruction</td>\n",
              "      <td>Action</td>\n",
              "      <td>Film &amp; Video</td>\n",
              "      <td>USD</td>\n",
              "      <td>2016-07-28 20:25:59</td>\n",
              "      <td>1200.0</td>\n",
              "      <td>2016-06-28 20:25:59</td>\n",
              "      <td>1.0</td>\n",
              "      <td>failed</td>\n",
              "      <td>1.0</td>\n",
              "      <td>US</td>\n",
              "    </tr>\n",
              "    <tr>\n",
              "      <th>284559</th>\n",
              "      <td>764696534</td>\n",
              "      <td>Chug the Bug: Chug Makes New Friends eBook/3DI...</td>\n",
              "      <td>Software</td>\n",
              "      <td>Technology</td>\n",
              "      <td>USD</td>\n",
              "      <td>2012-07-23 06:59:00</td>\n",
              "      <td>18000.0</td>\n",
              "      <td>2012-06-22 07:01:45</td>\n",
              "      <td>18630.0</td>\n",
              "      <td>successful</td>\n",
              "      <td>64.0</td>\n",
              "      <td>US</td>\n",
              "    </tr>\n",
              "    <tr>\n",
              "      <th>284560</th>\n",
              "      <td>764702045</td>\n",
              "      <td>For love of a Fish</td>\n",
              "      <td>Shorts</td>\n",
              "      <td>Film &amp; Video</td>\n",
              "      <td>USD</td>\n",
              "      <td>2012-05-01 22:31:56</td>\n",
              "      <td>750.0</td>\n",
              "      <td>2012-04-23 22:31:56</td>\n",
              "      <td>1385.0</td>\n",
              "      <td>successful</td>\n",
              "      <td>32.0</td>\n",
              "      <td>US</td>\n",
              "    </tr>\n",
              "    <tr>\n",
              "      <th>284561</th>\n",
              "      <td>764702477</td>\n",
              "      <td>1800's Rendezvous Fare.... Reflections of the ...</td>\n",
              "      <td>Nonfiction</td>\n",
              "      <td>Publishing</td>\n",
              "      <td>USD</td>\n",
              "      <td>2012-05-27 03:12:30</td>\n",
              "      <td>10000.0</td>\n",
              "      <td>2012-04-27 03:12:30</td>\n",
              "      <td>0.0</td>\n",
              "      <td>failed</td>\n",
              "      <td>0.0</td>\n",
              "      <td>US</td>\n",
              "    </tr>\n",
              "    <tr>\n",
              "      <th>284562</th>\n",
              "      <td>764705010</td>\n",
              "      <td>Bitter Thing (Canceled)</td>\n",
              "      <td>Shorts</td>\n",
              "      <td>Film &amp; Video</td>\n",
              "      <td>USD</td>\n",
              "      <td>2014-06-29 20:06:36</td>\n",
              "      <td>15200.0</td>\n",
              "      <td>2014-05-30 20:06:36</td>\n",
              "      <td>4831.0</td>\n",
              "      <td>canceled</td>\n",
              "      <td>80.0</td>\n",
              "      <td>US</td>\n",
              "    </tr>\n",
              "  </tbody>\n",
              "</table>\n",
              "<p>284006 rows × 12 columns</p>\n",
              "</div>\n",
              "    <div class=\"colab-df-buttons\">\n",
              "\n",
              "  <div class=\"colab-df-container\">\n",
              "    <button class=\"colab-df-convert\" onclick=\"convertToInteractive('df-b8b7c65e-ba68-4114-89ef-00c2f5118826')\"\n",
              "            title=\"Convert this dataframe to an interactive table.\"\n",
              "            style=\"display:none;\">\n",
              "\n",
              "  <svg xmlns=\"http://www.w3.org/2000/svg\" height=\"24px\" viewBox=\"0 -960 960 960\">\n",
              "    <path d=\"M120-120v-720h720v720H120Zm60-500h600v-160H180v160Zm220 220h160v-160H400v160Zm0 220h160v-160H400v160ZM180-400h160v-160H180v160Zm440 0h160v-160H620v160ZM180-180h160v-160H180v160Zm440 0h160v-160H620v160Z\"/>\n",
              "  </svg>\n",
              "    </button>\n",
              "\n",
              "  <style>\n",
              "    .colab-df-container {\n",
              "      display:flex;\n",
              "      gap: 12px;\n",
              "    }\n",
              "\n",
              "    .colab-df-convert {\n",
              "      background-color: #E8F0FE;\n",
              "      border: none;\n",
              "      border-radius: 50%;\n",
              "      cursor: pointer;\n",
              "      display: none;\n",
              "      fill: #1967D2;\n",
              "      height: 32px;\n",
              "      padding: 0 0 0 0;\n",
              "      width: 32px;\n",
              "    }\n",
              "\n",
              "    .colab-df-convert:hover {\n",
              "      background-color: #E2EBFA;\n",
              "      box-shadow: 0px 1px 2px rgba(60, 64, 67, 0.3), 0px 1px 3px 1px rgba(60, 64, 67, 0.15);\n",
              "      fill: #174EA6;\n",
              "    }\n",
              "\n",
              "    .colab-df-buttons div {\n",
              "      margin-bottom: 4px;\n",
              "    }\n",
              "\n",
              "    [theme=dark] .colab-df-convert {\n",
              "      background-color: #3B4455;\n",
              "      fill: #D2E3FC;\n",
              "    }\n",
              "\n",
              "    [theme=dark] .colab-df-convert:hover {\n",
              "      background-color: #434B5C;\n",
              "      box-shadow: 0px 1px 3px 1px rgba(0, 0, 0, 0.15);\n",
              "      filter: drop-shadow(0px 1px 2px rgba(0, 0, 0, 0.3));\n",
              "      fill: #FFFFFF;\n",
              "    }\n",
              "  </style>\n",
              "\n",
              "    <script>\n",
              "      const buttonEl =\n",
              "        document.querySelector('#df-b8b7c65e-ba68-4114-89ef-00c2f5118826 button.colab-df-convert');\n",
              "      buttonEl.style.display =\n",
              "        google.colab.kernel.accessAllowed ? 'block' : 'none';\n",
              "\n",
              "      async function convertToInteractive(key) {\n",
              "        const element = document.querySelector('#df-b8b7c65e-ba68-4114-89ef-00c2f5118826');\n",
              "        const dataTable =\n",
              "          await google.colab.kernel.invokeFunction('convertToInteractive',\n",
              "                                                    [key], {});\n",
              "        if (!dataTable) return;\n",
              "\n",
              "        const docLinkHtml = 'Like what you see? Visit the ' +\n",
              "          '<a target=\"_blank\" href=https://colab.research.google.com/notebooks/data_table.ipynb>data table notebook</a>'\n",
              "          + ' to learn more about interactive tables.';\n",
              "        element.innerHTML = '';\n",
              "        dataTable['output_type'] = 'display_data';\n",
              "        await google.colab.output.renderOutput(dataTable, element);\n",
              "        const docLink = document.createElement('div');\n",
              "        docLink.innerHTML = docLinkHtml;\n",
              "        element.appendChild(docLink);\n",
              "      }\n",
              "    </script>\n",
              "  </div>\n",
              "\n",
              "\n",
              "<div id=\"df-4fa5bf53-55a7-458f-b964-1d97a7c46d60\">\n",
              "  <button class=\"colab-df-quickchart\" onclick=\"quickchart('df-4fa5bf53-55a7-458f-b964-1d97a7c46d60')\"\n",
              "            title=\"Suggest charts\"\n",
              "            style=\"display:none;\">\n",
              "\n",
              "<svg xmlns=\"http://www.w3.org/2000/svg\" height=\"24px\"viewBox=\"0 0 24 24\"\n",
              "     width=\"24px\">\n",
              "    <g>\n",
              "        <path d=\"M19 3H5c-1.1 0-2 .9-2 2v14c0 1.1.9 2 2 2h14c1.1 0 2-.9 2-2V5c0-1.1-.9-2-2-2zM9 17H7v-7h2v7zm4 0h-2V7h2v10zm4 0h-2v-4h2v4z\"/>\n",
              "    </g>\n",
              "</svg>\n",
              "  </button>\n",
              "\n",
              "<style>\n",
              "  .colab-df-quickchart {\n",
              "      --bg-color: #E8F0FE;\n",
              "      --fill-color: #1967D2;\n",
              "      --hover-bg-color: #E2EBFA;\n",
              "      --hover-fill-color: #174EA6;\n",
              "      --disabled-fill-color: #AAA;\n",
              "      --disabled-bg-color: #DDD;\n",
              "  }\n",
              "\n",
              "  [theme=dark] .colab-df-quickchart {\n",
              "      --bg-color: #3B4455;\n",
              "      --fill-color: #D2E3FC;\n",
              "      --hover-bg-color: #434B5C;\n",
              "      --hover-fill-color: #FFFFFF;\n",
              "      --disabled-bg-color: #3B4455;\n",
              "      --disabled-fill-color: #666;\n",
              "  }\n",
              "\n",
              "  .colab-df-quickchart {\n",
              "    background-color: var(--bg-color);\n",
              "    border: none;\n",
              "    border-radius: 50%;\n",
              "    cursor: pointer;\n",
              "    display: none;\n",
              "    fill: var(--fill-color);\n",
              "    height: 32px;\n",
              "    padding: 0;\n",
              "    width: 32px;\n",
              "  }\n",
              "\n",
              "  .colab-df-quickchart:hover {\n",
              "    background-color: var(--hover-bg-color);\n",
              "    box-shadow: 0 1px 2px rgba(60, 64, 67, 0.3), 0 1px 3px 1px rgba(60, 64, 67, 0.15);\n",
              "    fill: var(--button-hover-fill-color);\n",
              "  }\n",
              "\n",
              "  .colab-df-quickchart-complete:disabled,\n",
              "  .colab-df-quickchart-complete:disabled:hover {\n",
              "    background-color: var(--disabled-bg-color);\n",
              "    fill: var(--disabled-fill-color);\n",
              "    box-shadow: none;\n",
              "  }\n",
              "\n",
              "  .colab-df-spinner {\n",
              "    border: 2px solid var(--fill-color);\n",
              "    border-color: transparent;\n",
              "    border-bottom-color: var(--fill-color);\n",
              "    animation:\n",
              "      spin 1s steps(1) infinite;\n",
              "  }\n",
              "\n",
              "  @keyframes spin {\n",
              "    0% {\n",
              "      border-color: transparent;\n",
              "      border-bottom-color: var(--fill-color);\n",
              "      border-left-color: var(--fill-color);\n",
              "    }\n",
              "    20% {\n",
              "      border-color: transparent;\n",
              "      border-left-color: var(--fill-color);\n",
              "      border-top-color: var(--fill-color);\n",
              "    }\n",
              "    30% {\n",
              "      border-color: transparent;\n",
              "      border-left-color: var(--fill-color);\n",
              "      border-top-color: var(--fill-color);\n",
              "      border-right-color: var(--fill-color);\n",
              "    }\n",
              "    40% {\n",
              "      border-color: transparent;\n",
              "      border-right-color: var(--fill-color);\n",
              "      border-top-color: var(--fill-color);\n",
              "    }\n",
              "    60% {\n",
              "      border-color: transparent;\n",
              "      border-right-color: var(--fill-color);\n",
              "    }\n",
              "    80% {\n",
              "      border-color: transparent;\n",
              "      border-right-color: var(--fill-color);\n",
              "      border-bottom-color: var(--fill-color);\n",
              "    }\n",
              "    90% {\n",
              "      border-color: transparent;\n",
              "      border-bottom-color: var(--fill-color);\n",
              "    }\n",
              "  }\n",
              "</style>\n",
              "\n",
              "  <script>\n",
              "    async function quickchart(key) {\n",
              "      const quickchartButtonEl =\n",
              "        document.querySelector('#' + key + ' button');\n",
              "      quickchartButtonEl.disabled = true;  // To prevent multiple clicks.\n",
              "      quickchartButtonEl.classList.add('colab-df-spinner');\n",
              "      try {\n",
              "        const charts = await google.colab.kernel.invokeFunction(\n",
              "            'suggestCharts', [key], {});\n",
              "      } catch (error) {\n",
              "        console.error('Error during call to suggestCharts:', error);\n",
              "      }\n",
              "      quickchartButtonEl.classList.remove('colab-df-spinner');\n",
              "      quickchartButtonEl.classList.add('colab-df-quickchart-complete');\n",
              "    }\n",
              "    (() => {\n",
              "      let quickchartButtonEl =\n",
              "        document.querySelector('#df-4fa5bf53-55a7-458f-b964-1d97a7c46d60 button');\n",
              "      quickchartButtonEl.style.display =\n",
              "        google.colab.kernel.accessAllowed ? 'block' : 'none';\n",
              "    })();\n",
              "  </script>\n",
              "</div>\n",
              "    </div>\n",
              "  </div>\n"
            ],
            "text/plain": [
              "                ID                                               name  \\\n",
              "0       1000002330                    The Songs of Adelaide & Abullah   \n",
              "1       1000004038                                     Where is Hank?   \n",
              "2       1000007540  ToshiCapital Rekordz Needs Help to Complete Album   \n",
              "3       1000011046  Community Film Project: The Art of Neighborhoo...   \n",
              "4       1000014025                               Monarch Espresso Bar   \n",
              "...            ...                                                ...   \n",
              "284558   764683452      Revival of the SHRED! Halfpipe reconstruction   \n",
              "284559   764696534  Chug the Bug: Chug Makes New Friends eBook/3DI...   \n",
              "284560   764702045                                 For love of a Fish   \n",
              "284561   764702477  1800's Rendezvous Fare.... Reflections of the ...   \n",
              "284562   764705010                            Bitter Thing (Canceled)   \n",
              "\n",
              "              category main_category currency            deadline     goal  \\\n",
              "0               Poetry    Publishing      GBP 2015-10-09 11:36:00   1000.0   \n",
              "1       Narrative Film  Film & Video      USD 2013-02-26 00:20:50  45000.0   \n",
              "2                Music         Music      USD 2012-04-16 04:24:11   5000.0   \n",
              "3         Film & Video  Film & Video      USD 2015-08-29 01:00:00  19500.0   \n",
              "4          Restaurants          Food      USD 2016-04-01 13:38:27  50000.0   \n",
              "...                ...           ...      ...                 ...      ...   \n",
              "284558          Action  Film & Video      USD 2016-07-28 20:25:59   1200.0   \n",
              "284559        Software    Technology      USD 2012-07-23 06:59:00  18000.0   \n",
              "284560          Shorts  Film & Video      USD 2012-05-01 22:31:56    750.0   \n",
              "284561      Nonfiction    Publishing      USD 2012-05-27 03:12:30  10000.0   \n",
              "284562          Shorts  Film & Video      USD 2014-06-29 20:06:36  15200.0   \n",
              "\n",
              "                  launched  pledged       state  backers country  \n",
              "0      2015-08-11 12:12:28      0.0      failed      0.0      GB  \n",
              "1      2013-01-12 00:20:50    220.0      failed      3.0      US  \n",
              "2      2012-03-17 03:24:11      1.0      failed      1.0      US  \n",
              "3      2015-07-04 08:35:03   1283.0    canceled     14.0      US  \n",
              "4      2016-02-26 13:38:27  52375.0  successful    224.0      US  \n",
              "...                    ...      ...         ...      ...     ...  \n",
              "284558 2016-06-28 20:25:59      1.0      failed      1.0      US  \n",
              "284559 2012-06-22 07:01:45  18630.0  successful     64.0      US  \n",
              "284560 2012-04-23 22:31:56   1385.0  successful     32.0      US  \n",
              "284561 2012-04-27 03:12:30      0.0      failed      0.0      US  \n",
              "284562 2014-05-30 20:06:36   4831.0    canceled     80.0      US  \n",
              "\n",
              "[284006 rows x 12 columns]"
            ]
          },
          "execution_count": 18,
          "metadata": {},
          "output_type": "execute_result"
        }
      ],
      "source": [
        "ks"
      ]
    },
    {
      "cell_type": "markdown",
      "metadata": {
        "id": "C3K9MmyE3h54"
      },
      "source": [
        "### Verifiaction des autres données"
      ]
    },
    {
      "cell_type": "code",
      "execution_count": 19,
      "metadata": {
        "colab": {
          "base_uri": "https://localhost:8080/"
        },
        "id": "uZWOMOWp3h54",
        "outputId": "18f4252e-31e2-42c7-f63c-66b5d7e5a258"
      },
      "outputs": [
        {
          "name": "stdout",
          "output_type": "stream",
          "text": [
            "\n",
            "Valeurs uniques dans la colonne 'currency' :\n",
            " ['GBP' 'USD' 'CAD' 'NOK' 'AUD' 'EUR' 'MXN' 'SEK' 'NZD' 'CHF' 'DKK' 'HKD'\n",
            " 'SGD']\n",
            "\n",
            "Valeurs uniques dans la colonne 'country' :\n",
            " ['GB' 'US' 'CA' 'NO' 'AU' 'IT' 'DE' 'IE' 'ES' 'N,\"0' 'MX' 'SE' 'FR' 'NL'\n",
            " 'NZ' 'CH' 'AT' 'BE' 'DK' 'HK' 'LU' 'SG']\n",
            "\n",
            "Valeurs uniques dans la colonne 'state' :\n",
            " ['failed' 'canceled' 'successful' 'live' 'undefined' 'suspended']\n",
            "\n",
            "Valeurs uniques dans la colonne 'main_category' :\n",
            " ['Publishing' 'Film & Video' 'Music' 'Food' 'Design' 'Crafts' 'Games'\n",
            " 'Comics' 'Fashion' 'Theater' 'Art' 'Photography' 'Technology' 'Dance'\n",
            " 'Journalism']\n",
            "\n",
            "Valeurs uniques dans la colonne 'category' :\n",
            " ['Poetry' 'Narrative Film' 'Music' 'Film & Video' 'Restaurants' 'Food'\n",
            " 'Drinks' 'Product Design' 'Documentary' 'Nonfiction' 'Indie Rock'\n",
            " 'Crafts' 'Games' 'Design' 'Comic Books' 'Art Books' 'Fashion' 'Theater'\n",
            " 'Comics' 'DIY' 'Webseries' 'Food Trucks' 'Public Art' 'Illustration'\n",
            " 'Photography' 'Pop' 'Tabletop Games' 'Art' 'Family' 'Fiction'\n",
            " 'Accessories' 'Rock' 'Hardware' 'Weaving' 'Gadgets' 'Web' 'Jazz'\n",
            " 'Ready-to-wear' 'Festivals' 'Video Games' 'Anthologies' 'Publishing'\n",
            " 'Shorts' 'Electronic Music' 'Radio & Podcasts' 'Apps' 'Cookbooks'\n",
            " 'Apparel' 'Metal' 'Hip-Hop' 'Periodicals' 'Dance' 'Technology' 'Painting'\n",
            " 'Software' 'World Music' 'Photobooks' 'Drama' 'Architecture'\n",
            " 'Young Adult' 'Mobile Games' 'Flight' 'Fine Art' 'Action' 'Playing Cards'\n",
            " 'Makerspaces' 'Punk' \"Children's Books\" 'People' 'Ceramics'\n",
            " 'Fabrication Tools' 'Comedy' 'Performances' 'Sculpture' 'Animation'\n",
            " 'Sound' 'Stationery' \"Farmer's Markets\" 'Events' 'Classical Music'\n",
            " 'Graphic Design' 'Spaces' 'Country & Folk' 'Mixed Media' 'Journalism'\n",
            " 'Movie Theaters' 'Animals' 'Digital Art' 'Performance Art'\n",
            " 'Installations' 'Community Gardens' 'DIY Electronics' 'Embroidery'\n",
            " 'Camera Equipment' 'Farms' 'Conceptual Art' 'Fantasy' 'Webcomics'\n",
            " 'Experimental' 'Puzzles' 'R&B' 'Print' 'Music Videos' 'Calendars' 'Vegan'\n",
            " 'Video' 'Plays' 'Blues' 'Bacon' 'Faith' 'Horror' 'Science Fiction'\n",
            " 'Jewelry' 'Live Games' 'Small Batch' 'Woodworking' 'Places'\n",
            " 'Graphic Novels' 'Footwear' '3D Printing' 'Academic' 'Thrillers'\n",
            " 'Wearables' 'Musical' 'Photo' 'Immersive' 'Workshops' 'Letterpress'\n",
            " 'Gaming Hardware' 'Zines' 'Candles' 'Television' 'Audio'\n",
            " 'Space Exploration' 'Couture' 'Nature' 'Typography' 'Latin' 'Robots'\n",
            " 'Crochet' 'Translations' 'Textiles' 'Interactive Design' 'Childrenswear'\n",
            " 'Quilts' 'Pet Fashion' 'Knitting' 'Printing' 'Romance' 'Video Art' 'Kids'\n",
            " 'Literary Journals' 'Civic Design' 'Glass' 'Pottery' 'Taxidermy'\n",
            " 'Chiptune' 'Residencies']\n"
          ]
        }
      ],
      "source": [
        "print(\"\\nValeurs uniques dans la colonne 'currency' :\\n\", ks['currency'].unique())\n",
        "print(\"\\nValeurs uniques dans la colonne 'country' :\\n\", ks['country'].unique())\n",
        "print(\"\\nValeurs uniques dans la colonne 'state' :\\n\", ks['state'].unique())\n",
        "print(\"\\nValeurs uniques dans la colonne 'main_category' :\\n\", ks['main_category'].unique())\n",
        "print(\"\\nValeurs uniques dans la colonne 'category' :\\n\", ks['category'].unique())"
      ]
    },
    {
      "cell_type": "markdown",
      "metadata": {
        "id": "QvUYXcai3h54"
      },
      "source": [
        "## Enregistrer le DataFrame traité dans un fichier CSV"
      ]
    },
    {
      "cell_type": "code",
      "execution_count": 20,
      "metadata": {
        "id": "QSZXDQ_u3h54"
      },
      "outputs": [],
      "source": [
        "ks.to_csv('ks_dataset_traite.csv', index=False)"
      ]
    },
    {
      "cell_type": "code",
      "execution_count": 21,
      "metadata": {
        "id": "AqHhBcpn3h55"
      },
      "outputs": [],
      "source": [
        "kst = pd.read_csv('ks_dataset_traite.csv', encoding='latin-1')"
      ]
    },
    {
      "cell_type": "code",
      "execution_count": 22,
      "metadata": {
        "colab": {
          "base_uri": "https://localhost:8080/",
          "height": 452
        },
        "id": "A33b3MAD3h55",
        "outputId": "4b78c549-dc71-4c58-b278-ea6e2a6c6bf8"
      },
      "outputs": [
        {
          "data": {
            "text/html": [
              "\n",
              "  <div id=\"df-74a7b408-2df4-4809-9ab2-9b455eb57cf1\" class=\"colab-df-container\">\n",
              "    <div>\n",
              "<style scoped>\n",
              "    .dataframe tbody tr th:only-of-type {\n",
              "        vertical-align: middle;\n",
              "    }\n",
              "\n",
              "    .dataframe tbody tr th {\n",
              "        vertical-align: top;\n",
              "    }\n",
              "\n",
              "    .dataframe thead th {\n",
              "        text-align: right;\n",
              "    }\n",
              "</style>\n",
              "<table border=\"1\" class=\"dataframe\">\n",
              "  <thead>\n",
              "    <tr style=\"text-align: right;\">\n",
              "      <th></th>\n",
              "      <th>ID</th>\n",
              "      <th>name</th>\n",
              "      <th>category</th>\n",
              "      <th>main_category</th>\n",
              "      <th>currency</th>\n",
              "      <th>deadline</th>\n",
              "      <th>goal</th>\n",
              "      <th>launched</th>\n",
              "      <th>pledged</th>\n",
              "      <th>state</th>\n",
              "      <th>backers</th>\n",
              "      <th>country</th>\n",
              "    </tr>\n",
              "  </thead>\n",
              "  <tbody>\n",
              "    <tr>\n",
              "      <th>0</th>\n",
              "      <td>1000002330</td>\n",
              "      <td>The Songs of Adelaide &amp; Abullah</td>\n",
              "      <td>Poetry</td>\n",
              "      <td>Publishing</td>\n",
              "      <td>GBP</td>\n",
              "      <td>2015-10-09 11:36:00</td>\n",
              "      <td>1000.0</td>\n",
              "      <td>2015-08-11 12:12:28</td>\n",
              "      <td>0.0</td>\n",
              "      <td>failed</td>\n",
              "      <td>0.0</td>\n",
              "      <td>GB</td>\n",
              "    </tr>\n",
              "    <tr>\n",
              "      <th>1</th>\n",
              "      <td>1000004038</td>\n",
              "      <td>Where is Hank?</td>\n",
              "      <td>Narrative Film</td>\n",
              "      <td>Film &amp; Video</td>\n",
              "      <td>USD</td>\n",
              "      <td>2013-02-26 00:20:50</td>\n",
              "      <td>45000.0</td>\n",
              "      <td>2013-01-12 00:20:50</td>\n",
              "      <td>220.0</td>\n",
              "      <td>failed</td>\n",
              "      <td>3.0</td>\n",
              "      <td>US</td>\n",
              "    </tr>\n",
              "    <tr>\n",
              "      <th>2</th>\n",
              "      <td>1000007540</td>\n",
              "      <td>ToshiCapital Rekordz Needs Help to Complete Album</td>\n",
              "      <td>Music</td>\n",
              "      <td>Music</td>\n",
              "      <td>USD</td>\n",
              "      <td>2012-04-16 04:24:11</td>\n",
              "      <td>5000.0</td>\n",
              "      <td>2012-03-17 03:24:11</td>\n",
              "      <td>1.0</td>\n",
              "      <td>failed</td>\n",
              "      <td>1.0</td>\n",
              "      <td>US</td>\n",
              "    </tr>\n",
              "    <tr>\n",
              "      <th>3</th>\n",
              "      <td>1000011046</td>\n",
              "      <td>Community Film Project: The Art of Neighborhoo...</td>\n",
              "      <td>Film &amp; Video</td>\n",
              "      <td>Film &amp; Video</td>\n",
              "      <td>USD</td>\n",
              "      <td>2015-08-29 01:00:00</td>\n",
              "      <td>19500.0</td>\n",
              "      <td>2015-07-04 08:35:03</td>\n",
              "      <td>1283.0</td>\n",
              "      <td>canceled</td>\n",
              "      <td>14.0</td>\n",
              "      <td>US</td>\n",
              "    </tr>\n",
              "    <tr>\n",
              "      <th>4</th>\n",
              "      <td>1000014025</td>\n",
              "      <td>Monarch Espresso Bar</td>\n",
              "      <td>Restaurants</td>\n",
              "      <td>Food</td>\n",
              "      <td>USD</td>\n",
              "      <td>2016-04-01 13:38:27</td>\n",
              "      <td>50000.0</td>\n",
              "      <td>2016-02-26 13:38:27</td>\n",
              "      <td>52375.0</td>\n",
              "      <td>successful</td>\n",
              "      <td>224.0</td>\n",
              "      <td>US</td>\n",
              "    </tr>\n",
              "  </tbody>\n",
              "</table>\n",
              "</div>\n",
              "    <div class=\"colab-df-buttons\">\n",
              "\n",
              "  <div class=\"colab-df-container\">\n",
              "    <button class=\"colab-df-convert\" onclick=\"convertToInteractive('df-74a7b408-2df4-4809-9ab2-9b455eb57cf1')\"\n",
              "            title=\"Convert this dataframe to an interactive table.\"\n",
              "            style=\"display:none;\">\n",
              "\n",
              "  <svg xmlns=\"http://www.w3.org/2000/svg\" height=\"24px\" viewBox=\"0 -960 960 960\">\n",
              "    <path d=\"M120-120v-720h720v720H120Zm60-500h600v-160H180v160Zm220 220h160v-160H400v160Zm0 220h160v-160H400v160ZM180-400h160v-160H180v160Zm440 0h160v-160H620v160ZM180-180h160v-160H180v160Zm440 0h160v-160H620v160Z\"/>\n",
              "  </svg>\n",
              "    </button>\n",
              "\n",
              "  <style>\n",
              "    .colab-df-container {\n",
              "      display:flex;\n",
              "      gap: 12px;\n",
              "    }\n",
              "\n",
              "    .colab-df-convert {\n",
              "      background-color: #E8F0FE;\n",
              "      border: none;\n",
              "      border-radius: 50%;\n",
              "      cursor: pointer;\n",
              "      display: none;\n",
              "      fill: #1967D2;\n",
              "      height: 32px;\n",
              "      padding: 0 0 0 0;\n",
              "      width: 32px;\n",
              "    }\n",
              "\n",
              "    .colab-df-convert:hover {\n",
              "      background-color: #E2EBFA;\n",
              "      box-shadow: 0px 1px 2px rgba(60, 64, 67, 0.3), 0px 1px 3px 1px rgba(60, 64, 67, 0.15);\n",
              "      fill: #174EA6;\n",
              "    }\n",
              "\n",
              "    .colab-df-buttons div {\n",
              "      margin-bottom: 4px;\n",
              "    }\n",
              "\n",
              "    [theme=dark] .colab-df-convert {\n",
              "      background-color: #3B4455;\n",
              "      fill: #D2E3FC;\n",
              "    }\n",
              "\n",
              "    [theme=dark] .colab-df-convert:hover {\n",
              "      background-color: #434B5C;\n",
              "      box-shadow: 0px 1px 3px 1px rgba(0, 0, 0, 0.15);\n",
              "      filter: drop-shadow(0px 1px 2px rgba(0, 0, 0, 0.3));\n",
              "      fill: #FFFFFF;\n",
              "    }\n",
              "  </style>\n",
              "\n",
              "    <script>\n",
              "      const buttonEl =\n",
              "        document.querySelector('#df-74a7b408-2df4-4809-9ab2-9b455eb57cf1 button.colab-df-convert');\n",
              "      buttonEl.style.display =\n",
              "        google.colab.kernel.accessAllowed ? 'block' : 'none';\n",
              "\n",
              "      async function convertToInteractive(key) {\n",
              "        const element = document.querySelector('#df-74a7b408-2df4-4809-9ab2-9b455eb57cf1');\n",
              "        const dataTable =\n",
              "          await google.colab.kernel.invokeFunction('convertToInteractive',\n",
              "                                                    [key], {});\n",
              "        if (!dataTable) return;\n",
              "\n",
              "        const docLinkHtml = 'Like what you see? Visit the ' +\n",
              "          '<a target=\"_blank\" href=https://colab.research.google.com/notebooks/data_table.ipynb>data table notebook</a>'\n",
              "          + ' to learn more about interactive tables.';\n",
              "        element.innerHTML = '';\n",
              "        dataTable['output_type'] = 'display_data';\n",
              "        await google.colab.output.renderOutput(dataTable, element);\n",
              "        const docLink = document.createElement('div');\n",
              "        docLink.innerHTML = docLinkHtml;\n",
              "        element.appendChild(docLink);\n",
              "      }\n",
              "    </script>\n",
              "  </div>\n",
              "\n",
              "\n",
              "<div id=\"df-5ab59cc5-cd9f-4e2f-ba5e-ff0e5ecb4a0d\">\n",
              "  <button class=\"colab-df-quickchart\" onclick=\"quickchart('df-5ab59cc5-cd9f-4e2f-ba5e-ff0e5ecb4a0d')\"\n",
              "            title=\"Suggest charts\"\n",
              "            style=\"display:none;\">\n",
              "\n",
              "<svg xmlns=\"http://www.w3.org/2000/svg\" height=\"24px\"viewBox=\"0 0 24 24\"\n",
              "     width=\"24px\">\n",
              "    <g>\n",
              "        <path d=\"M19 3H5c-1.1 0-2 .9-2 2v14c0 1.1.9 2 2 2h14c1.1 0 2-.9 2-2V5c0-1.1-.9-2-2-2zM9 17H7v-7h2v7zm4 0h-2V7h2v10zm4 0h-2v-4h2v4z\"/>\n",
              "    </g>\n",
              "</svg>\n",
              "  </button>\n",
              "\n",
              "<style>\n",
              "  .colab-df-quickchart {\n",
              "      --bg-color: #E8F0FE;\n",
              "      --fill-color: #1967D2;\n",
              "      --hover-bg-color: #E2EBFA;\n",
              "      --hover-fill-color: #174EA6;\n",
              "      --disabled-fill-color: #AAA;\n",
              "      --disabled-bg-color: #DDD;\n",
              "  }\n",
              "\n",
              "  [theme=dark] .colab-df-quickchart {\n",
              "      --bg-color: #3B4455;\n",
              "      --fill-color: #D2E3FC;\n",
              "      --hover-bg-color: #434B5C;\n",
              "      --hover-fill-color: #FFFFFF;\n",
              "      --disabled-bg-color: #3B4455;\n",
              "      --disabled-fill-color: #666;\n",
              "  }\n",
              "\n",
              "  .colab-df-quickchart {\n",
              "    background-color: var(--bg-color);\n",
              "    border: none;\n",
              "    border-radius: 50%;\n",
              "    cursor: pointer;\n",
              "    display: none;\n",
              "    fill: var(--fill-color);\n",
              "    height: 32px;\n",
              "    padding: 0;\n",
              "    width: 32px;\n",
              "  }\n",
              "\n",
              "  .colab-df-quickchart:hover {\n",
              "    background-color: var(--hover-bg-color);\n",
              "    box-shadow: 0 1px 2px rgba(60, 64, 67, 0.3), 0 1px 3px 1px rgba(60, 64, 67, 0.15);\n",
              "    fill: var(--button-hover-fill-color);\n",
              "  }\n",
              "\n",
              "  .colab-df-quickchart-complete:disabled,\n",
              "  .colab-df-quickchart-complete:disabled:hover {\n",
              "    background-color: var(--disabled-bg-color);\n",
              "    fill: var(--disabled-fill-color);\n",
              "    box-shadow: none;\n",
              "  }\n",
              "\n",
              "  .colab-df-spinner {\n",
              "    border: 2px solid var(--fill-color);\n",
              "    border-color: transparent;\n",
              "    border-bottom-color: var(--fill-color);\n",
              "    animation:\n",
              "      spin 1s steps(1) infinite;\n",
              "  }\n",
              "\n",
              "  @keyframes spin {\n",
              "    0% {\n",
              "      border-color: transparent;\n",
              "      border-bottom-color: var(--fill-color);\n",
              "      border-left-color: var(--fill-color);\n",
              "    }\n",
              "    20% {\n",
              "      border-color: transparent;\n",
              "      border-left-color: var(--fill-color);\n",
              "      border-top-color: var(--fill-color);\n",
              "    }\n",
              "    30% {\n",
              "      border-color: transparent;\n",
              "      border-left-color: var(--fill-color);\n",
              "      border-top-color: var(--fill-color);\n",
              "      border-right-color: var(--fill-color);\n",
              "    }\n",
              "    40% {\n",
              "      border-color: transparent;\n",
              "      border-right-color: var(--fill-color);\n",
              "      border-top-color: var(--fill-color);\n",
              "    }\n",
              "    60% {\n",
              "      border-color: transparent;\n",
              "      border-right-color: var(--fill-color);\n",
              "    }\n",
              "    80% {\n",
              "      border-color: transparent;\n",
              "      border-right-color: var(--fill-color);\n",
              "      border-bottom-color: var(--fill-color);\n",
              "    }\n",
              "    90% {\n",
              "      border-color: transparent;\n",
              "      border-bottom-color: var(--fill-color);\n",
              "    }\n",
              "  }\n",
              "</style>\n",
              "\n",
              "  <script>\n",
              "    async function quickchart(key) {\n",
              "      const quickchartButtonEl =\n",
              "        document.querySelector('#' + key + ' button');\n",
              "      quickchartButtonEl.disabled = true;  // To prevent multiple clicks.\n",
              "      quickchartButtonEl.classList.add('colab-df-spinner');\n",
              "      try {\n",
              "        const charts = await google.colab.kernel.invokeFunction(\n",
              "            'suggestCharts', [key], {});\n",
              "      } catch (error) {\n",
              "        console.error('Error during call to suggestCharts:', error);\n",
              "      }\n",
              "      quickchartButtonEl.classList.remove('colab-df-spinner');\n",
              "      quickchartButtonEl.classList.add('colab-df-quickchart-complete');\n",
              "    }\n",
              "    (() => {\n",
              "      let quickchartButtonEl =\n",
              "        document.querySelector('#df-5ab59cc5-cd9f-4e2f-ba5e-ff0e5ecb4a0d button');\n",
              "      quickchartButtonEl.style.display =\n",
              "        google.colab.kernel.accessAllowed ? 'block' : 'none';\n",
              "    })();\n",
              "  </script>\n",
              "</div>\n",
              "    </div>\n",
              "  </div>\n"
            ],
            "text/plain": [
              "           ID                                               name  \\\n",
              "0  1000002330                    The Songs of Adelaide & Abullah   \n",
              "1  1000004038                                     Where is Hank?   \n",
              "2  1000007540  ToshiCapital Rekordz Needs Help to Complete Album   \n",
              "3  1000011046  Community Film Project: The Art of Neighborhoo...   \n",
              "4  1000014025                               Monarch Espresso Bar   \n",
              "\n",
              "         category main_category currency             deadline     goal  \\\n",
              "0          Poetry    Publishing      GBP  2015-10-09 11:36:00   1000.0   \n",
              "1  Narrative Film  Film & Video      USD  2013-02-26 00:20:50  45000.0   \n",
              "2           Music         Music      USD  2012-04-16 04:24:11   5000.0   \n",
              "3    Film & Video  Film & Video      USD  2015-08-29 01:00:00  19500.0   \n",
              "4     Restaurants          Food      USD  2016-04-01 13:38:27  50000.0   \n",
              "\n",
              "              launched  pledged       state  backers country  \n",
              "0  2015-08-11 12:12:28      0.0      failed      0.0      GB  \n",
              "1  2013-01-12 00:20:50    220.0      failed      3.0      US  \n",
              "2  2012-03-17 03:24:11      1.0      failed      1.0      US  \n",
              "3  2015-07-04 08:35:03   1283.0    canceled     14.0      US  \n",
              "4  2016-02-26 13:38:27  52375.0  successful    224.0      US  "
            ]
          },
          "execution_count": 22,
          "metadata": {},
          "output_type": "execute_result"
        }
      ],
      "source": [
        "kst.head()"
      ]
    },
    {
      "cell_type": "code",
      "execution_count": 23,
      "metadata": {
        "colab": {
          "base_uri": "https://localhost:8080/"
        },
        "id": "aHoTBCae3h55",
        "outputId": "88bb0941-9336-41a1-94b4-b7b03918e4dd"
      },
      "outputs": [
        {
          "data": {
            "text/plain": [
              "Index(['ID', 'name', 'category', 'main_category', 'currency', 'deadline',\n",
              "       'goal', 'launched', 'pledged', 'state', 'backers', 'country'],\n",
              "      dtype='object')"
            ]
          },
          "execution_count": 23,
          "metadata": {},
          "output_type": "execute_result"
        }
      ],
      "source": [
        "kst.columns"
      ]
    },
    {
      "cell_type": "markdown",
      "metadata": {
        "id": "6MlzEYEZ3h55"
      },
      "source": [
        "## pourcentage de valeurs manquantes par colonne du nouveau DataFrame"
      ]
    },
    {
      "cell_type": "code",
      "execution_count": 24,
      "metadata": {
        "colab": {
          "base_uri": "https://localhost:8080/",
          "height": 490
        },
        "id": "FdaIkAli3h6A",
        "outputId": "45934fc0-0ed0-4692-a181-c5e22a1b6164"
      },
      "outputs": [
        {
          "data": {
            "image/png": "[encoded data removed]",
            "text/plain": [
              "<Figure size 1200x600 with 1 Axes>"
            ]
          },
          "metadata": {},
          "output_type": "display_data"
        }
      ],
      "source": [
        "import matplotlib.pyplot as plt\n",
        "import seaborn as sns\n",
        "\n",
        "# Pourcentage de valeurs manquantes par colonne\n",
        "missing_percentage = (kst.isnull().sum() / len(kst)) * 100\n",
        "\n",
        "# DataFrame pour faciliter la manipulation\n",
        "missing_values_df = pd.DataFrame({'Column': kst.columns, 'MissingPercentage': missing_percentage})\n",
        "\n",
        "# Pourcentage de valeurs manquantes\n",
        "missing_values_df = missing_values_df.sort_values(by='MissingPercentage', ascending=False)\n",
        "\n",
        "# Graphique à barres\n",
        "plt.figure(figsize=(12, 6))\n",
        "sns.barplot(x='MissingPercentage', y='Column', data=missing_values_df, palette='viridis')\n",
        "plt.title('Pourcentage de Valeurs Manquantes par Colonne')\n",
        "plt.xlabel('Pourcentage de Valeurs Manquantes')\n",
        "plt.ylabel('Colonne')\n",
        "plt.show()\n"
      ]
    },
    {
      "cell_type": "markdown",
      "metadata": {},
      "source": [
        "Nous pouvons constacter que le DATAFRAME a bien été nettoyé."
      ]
    },
    {
      "cell_type": "markdown",
      "metadata": {
        "id": "cMLTV_NQ3h6A"
      },
      "source": [
        "# Question #2 : Insights et Caractéristiques"
      ]
    },
    {
      "cell_type": "markdown",
      "metadata": {
        "id": "5xvb_MKH3h6B"
      },
      "source": [
        "### 2.1 voici trois insights pertinents liés au succès ou à l'échec des campagnes Kickstarter, accompagnés de visualisations :\n"
      ]
    },
    {
      "cell_type": "markdown",
      "metadata": {
        "id": "r-VzI2er3h6B"
      },
      "source": [
        "#### Insight 1 : Relation entre la catégorie principale et le succès de la campagne\n",
        "On peut explorer comment le succès d'une campagne Kickstarter est lié à la catégorie principale du projet."
      ]
    },
    {
      "cell_type": "code",
      "execution_count": 25,
      "metadata": {
        "id": "XihZgmqh3h6B"
      },
      "outputs": [],
      "source": [
        "import matplotlib.pyplot as plt\n",
        "import seaborn as sns"
      ]
    },
    {
      "cell_type": "code",
      "execution_count": 26,
      "metadata": {
        "colab": {
          "base_uri": "https://localhost:8080/",
          "height": 621
        },
        "id": "Z8LTOeZn3h6B",
        "outputId": "6d7875d0-0484-43cc-dc06-6297474cfe0e"
      },
      "outputs": [
        {
          "data": {
            "image/png": "[encoded data removed]",
            "text/plain": [
              "<Figure size 1400x800 with 1 Axes>"
            ]
          },
          "metadata": {},
          "output_type": "display_data"
        }
      ],
      "source": [
        "plt.figure(figsize=(14, 8))\n",
        "sns.countplot(x='main_category', hue='state', data=kst)\n",
        "plt.title('Répartition du succès/échec des campagnes par catégorie principale')\n",
        "plt.xlabel('Catégorie Principale')\n",
        "plt.ylabel('Nombre de Projets')\n",
        "plt.xticks(rotation=45, ha='right')\n",
        "plt.legend(title='État de la Campagne')\n",
        "plt.show()\n"
      ]
    },
    {
      "cell_type": "markdown",
      "metadata": {
        "id": "H1aB3ecS3h6C"
      },
      "source": [
        "#### Insight 2 : Impact du montant initial demandé sur le succès de la campagne.\n",
        "\n",
        "Analysons la relation entre le montant initial demandé (goal) et le succès de la campagne."
      ]
    },
    {
      "cell_type": "code",
      "execution_count": 27,
      "metadata": {
        "colab": {
          "base_uri": "https://localhost:8080/",
          "height": 531
        },
        "id": "f65IpSbA3h6C",
        "outputId": "b891024e-a27d-4240-cee4-368a65013e6d"
      },
      "outputs": [
        {
          "data": {
            "image/png": "[encoded data removed]",
            "text/plain": [
              "<Figure size 1200x600 with 1 Axes>"
            ]
          },
          "metadata": {},
          "output_type": "display_data"
        }
      ],
      "source": [
        "plt.figure(figsize=(12, 6))\n",
        "sns.boxplot(x='state', y='goal', data=kst)\n",
        "plt.title('Relation entre le montant initial demandé et le succès de la campagne')\n",
        "plt.xlabel('État de la Campagne')\n",
        "plt.ylabel('Montant Initial Demandé')\n",
        "plt.show()\n"
      ]
    },
    {
      "cell_type": "markdown",
      "metadata": {
        "id": "r0zqmnMa3h6C"
      },
      "source": [
        "#### Insight 3 : Influence du nombre de supporters (backers) sur le succès de la campagne.\n",
        "Examinons comment le nombre de supporters peut influencer le succès d'une campagne Kickstarter."
      ]
    },
    {
      "cell_type": "code",
      "execution_count": 28,
      "metadata": {
        "colab": {
          "base_uri": "https://localhost:8080/",
          "height": 567
        },
        "id": "9loUJp-e3h6C",
        "outputId": "b7a7cd32-c953-491e-8cea-54e0acc8867a"
      },
      "outputs": [
        {
          "data": {
            "image/png": "[encoded data removed]",
            "text/plain": [
              "<Figure size 1000x600 with 1 Axes>"
            ]
          },
          "metadata": {},
          "output_type": "display_data"
        }
      ],
      "source": [
        "plt.figure(figsize=(10, 6))\n",
        "sns.boxplot(x='state', y='backers', data=kst)\n",
        "plt.title(\"Relation entre le nombre de supporters et le succès de la campagne\")\n",
        "plt.xlabel('État de la Campagne')\n",
        "plt.ylabel('Nombre de Supporters')\n",
        "plt.show()"
      ]
    },
    {
      "cell_type": "markdown",
      "metadata": {
        "id": "BAbHPKZj3h6D"
      },
      "source": [
        "### 2.2. Discute sur les « variables de confusion (ou confondantes)1 » qui pourraient affecter l'interprétation de ces\n",
        "observations et prise en compte:"
      ]
    },
    {
      "cell_type": "markdown",
      "metadata": {
        "id": "bpaezJVf3h6D"
      },
      "source": [
        "Les variables de confusion, également appelées variables confondantes, sont des facteurs qui peuvent influencer à la fois la variable indépendante et la variable dépendante, pouvant ainsi brouiller l'interprétation des observations. Dans le contexte des campagnes Kickstarter, voici quelques variables de confusion potentielles et comment elles ont été prises en compte dans l'analyse :\n",
        "\n",
        "1. **Popularité des Projets :**\n",
        "   - **Variable de Confusion :** Certains projets peuvent bénéficier d'une popularité préalable, ce qui peut influencer le nombre de supporters et le financement.\n",
        "   - **Prise en Compte :** L'analyse pourrait être affinée en tenant compte du nombre initial de supporters et du financement par rapport à la notoriété antérieure du créateur de projet.\n",
        "\n",
        "2. **Durée de la Campagne :**\n",
        "   - **Variable de Confusion :** La durée de la campagne peut influencer le nombre de backers et le financement total.\n",
        "   - **Prise en Compte :** Une analyse plus approfondie pourrait être réalisée en ajustant les résultats en fonction de la durée de chaque campagne.\n",
        "\n",
        "3. **Type de Récompenses Offertes :**\n",
        "   - **Variable de Confusion :** Les projets offrant des récompenses attractives peuvent attirer plus de backers.\n",
        "   - **Prise en Compte :** Il pourrait être utile de segmenter l'analyse en fonction des types de récompenses offertes pour comprendre leur impact sur le succès.\n",
        "\n",
        "4. **Saisonnalité :**\n",
        "   - **Variable de Confusion :** Les campagnes Kickstarter pourraient être influencées par des saisons ou des événements spécifiques.\n",
        "   - **Prise en Compte :** L'analyse pourrait être ajustée en fonction des saisons ou des moments particuliers pour détecter des tendances saisonnières.\n",
        "\n",
        "5. **Taille de la Communauté Kickstarter :**\n",
        "   - **Variable de Confusion :** Des projets issus de communautés plus importantes peuvent avoir un avantage en termes de financement.\n",
        "   - **Prise en Compte :** En examinant la taille de la communauté Kickstarter des créateurs de projet, on peut mieux comprendre son impact sur les résultats.\n",
        "\n",
        "En général, il est important d'identifier ces variables de confusion potentielles et de les prendre en compte lors de l'interprétation des observations pour obtenir des résultats plus précis et pertinents."
      ]
    },
    {
      "cell_type": "markdown",
      "metadata": {
        "id": "ZAgIxRi93h6D"
      },
      "source": [
        "### 2.3. Les \"insights\" pourraient être transformés en variables pour faciliter l'apprentissage d’un modèle ML comme suite"
      ]
    },
    {
      "cell_type": "markdown",
      "metadata": {
        "id": "hOhXQ6F03h6E"
      },
      "source": [
        "Transformer les insights en variables pour faciliter l'apprentissage d'un modèle ML peut impliquer la création de nouvelles fonctionnalités (variables) qui capturent les aspects clés des insights identifiés. Voici comment cela pourrait être réalisé pour les trois insights mentionnés :"
      ]
    },
    {
      "cell_type": "markdown",
      "metadata": {
        "id": "fmkansBo3h6E"
      },
      "source": [
        "**Insight 1 : Impact de la Popularité Préalable sur le Succès du Projet**\n",
        "\n",
        "Pour capturer cet insight, une nouvelle fonctionnalité appelée \"Popularité Antérieure\" pourrait être créée. Cette variable mesurerait la notoriété du créateur du projet avant le lancement de la campagne. Cela peut être réalisé en agrégeant le nombre total de backers pour chaque créateur.\n",
        "\n",
        "**Insight 2 : Influence de la Durée de la Campagne sur le Financement**\n",
        "\n",
        "Pour intégrer cet insight, une fonctionnalité \"Durée Moyenne du Financement par Jour\" pourrait être créée. Cette variable reflèterait le taux de financement moyen par jour de chaque projet. Elle pourrait être calculée en divisant le montant total financé par la durée de la campagne en jours.\n",
        "\n",
        "**Insight 3 : Impact du Type de Récompenses sur le Succès du Projet**\n",
        "\n",
        "Pour prendre en compte cet insight, des variables binaires pour chaque type de récompense pourraient être introduites. Ces variables indiqueraient si le projet offre ou non un type spécifique de récompense. Par exemple, on pourrait créer une variable indiquant si le projet propose une \"récompense early bird\" ou une \"récompense special edition\".\n",
        "\n",
        "Ces transformations visent à encapsuler les informations clés de chaque insight dans une forme que le modèle ML peut comprendre. Cela se traduit par la création de nouvelles fonctionnalités qui fournissent des informations spécifiques susceptibles d'améliorer la capacité prédictive du modèle. Ces variables nouvellement créées peuvent être utilisées comme caractéristiques d'entrée lors de la construction du modèle."
      ]
    },
    {
      "cell_type": "markdown",
      "metadata": {
        "id": "vSV96vzd3h6F"
      },
      "source": [
        "# Question #3 : Modèle ML et Impact Commercial"
      ]
    },
    {
      "cell_type": "markdown",
      "metadata": {
        "id": "pY6WXiEW3h6F"
      },
      "source": [
        "#### 3.1.1. Pour atteindre l'objectif de prédire le succès des campagnes Kickstarter, nous pouvons utiliser un modèle de classification supervisée. Un choix courant pour ce type de problème est d'utiliser l'algorithme RandomForest, qui est robuste et performant pour la classification."
      ]
    },
    {
      "cell_type": "code",
      "execution_count": 29,
      "metadata": {
        "colab": {
          "base_uri": "https://localhost:8080/",
          "height": 996
        },
        "id": "chWzNtix3h6F",
        "outputId": "fdae84f3-86aa-4018-b24f-94551326e743"
      },
      "outputs": [
        {
          "name": "stdout",
          "output_type": "stream",
          "text": [
            "Accuracy: 0.782490053167142\n",
            "\n",
            "Classification Report:\n",
            "               precision    recall  f1-score   support\n",
            "\n",
            "    canceled       0.21      0.10      0.14      5737\n",
            "      failed       0.78      0.86      0.82     29628\n",
            "        live       0.14      0.05      0.07       769\n",
            "  successful       0.87      0.89      0.88     19775\n",
            "   suspended       0.08      0.03      0.04       253\n",
            "   undefined       0.93      0.99      0.96       640\n",
            "\n",
            "    accuracy                           0.78     56802\n",
            "   macro avg       0.50      0.49      0.49     56802\n",
            "weighted avg       0.74      0.78      0.76     56802\n",
            "\n"
          ]
        },
        {
          "data": {
            "image/png": "[encoded data removed]",
            "text/plain": [
              "<Figure size 1000x800 with 2 Axes>"
            ]
          },
          "metadata": {},
          "output_type": "display_data"
        }
      ],
      "source": [
        "# Importer les bibliothèques nécessaires\n",
        "from sklearn.model_selection import train_test_split\n",
        "from sklearn.ensemble import RandomForestClassifier\n",
        "from sklearn.metrics import accuracy_score, classification_report, confusion_matrix, roc_curve, auc\n",
        "from sklearn.preprocessing import LabelEncoder\n",
        "from sklearn.impute import SimpleImputer\n",
        "from sklearn.compose import ColumnTransformer\n",
        "from sklearn.pipeline import Pipeline\n",
        "from sklearn.preprocessing import StandardScaler, OneHotEncoder\n",
        "import matplotlib.pyplot as plt\n",
        "import seaborn as sns\n",
        "\n",
        "# Charger les données\n",
        "# (Assurez-vous que vous avez déjà effectué le prétraitement des données comme discuté précédemment)\n",
        "\n",
        "# Séparer les caractéristiques (X) de la cible (y)\n",
        "X = kst[['main_category', 'category', 'currency', 'deadline', 'goal', 'launched', 'backers', 'country']]\n",
        "y = kst['state']\n",
        "\n",
        "# Diviser les données en ensembles d'entraînement et de test\n",
        "X_train, X_test, y_train, y_test = train_test_split(X, y, test_size=0.2, random_state=42)\n",
        "\n",
        "# Prétraitement des données\n",
        "# On utilise ColumnTransformer pour appliquer différents traitements aux colonnes différentes\n",
        "numeric_features = ['goal', 'backers']\n",
        "numeric_transformer = Pipeline(steps=[\n",
        "    ('imputer', SimpleImputer(strategy='mean')),\n",
        "    ('scaler', StandardScaler())\n",
        "])\n",
        "\n",
        "categorical_features = ['main_category', 'category', 'currency', 'country']\n",
        "categorical_transformer = Pipeline(steps=[\n",
        "    ('imputer', SimpleImputer(strategy='constant', fill_value='missing')),\n",
        "    ('onehot', OneHotEncoder(handle_unknown='ignore'))\n",
        "])\n",
        "\n",
        "preprocessor = ColumnTransformer(\n",
        "    transformers=[\n",
        "        ('num', numeric_transformer, numeric_features),\n",
        "        ('cat', categorical_transformer, categorical_features)\n",
        "    ])\n",
        "\n",
        "# Créer le modèle RandomForestClassifier\n",
        "model = RandomForestClassifier(n_estimators=100, random_state=42)\n",
        "\n",
        "# Créer le pipeline complet\n",
        "pipeline = Pipeline(steps=[('preprocessor', preprocessor),\n",
        "                             ('classifier', model)])\n",
        "\n",
        "# Entraîner le modèle\n",
        "pipeline.fit(X_train, y_train)\n",
        "\n",
        "# Faire des prédictions sur l'ensemble de test\n",
        "y_pred = pipeline.predict(X_test)\n",
        "\n",
        "# Évaluer les performances du modèle\n",
        "print(f'Accuracy: {accuracy_score(y_test, y_pred)}')\n",
        "print('\\nClassification Report:\\n', classification_report(y_test, y_pred))\n",
        "\n",
        "# Matrice de confusion\n",
        "conf_matrix = confusion_matrix(y_test, y_pred, labels=pipeline.classes_)\n",
        "\n",
        "# Visualisation de la matrice de confusion\n",
        "plt.figure(figsize=(10, 8))\n",
        "sns.heatmap(conf_matrix, annot=True, fmt='d', cmap='Blues', xticklabels=pipeline.classes_, yticklabels=pipeline.classes_)\n",
        "plt.xlabel('Prédiction')\n",
        "plt.ylabel('Vraie étiquette')\n",
        "plt.title('Matrice de confusion')\n",
        "plt.show()"
      ]
    },
    {
      "cell_type": "markdown",
      "metadata": {
        "id": "fCeiE-RC3h6G"
      },
      "source": [
        "La sortie que nous avons montre les performances du modèle, notamment l'accuracy, le rapport de classification (precision, recall, f1-score), et la matrice de confusion. Voici une interprétation générale de ces métriques :\n",
        "\n",
        "1. **Accuracy (Précision)** : L'accuracy représente le pourcentage total de prédictions correctes parmi toutes les prédictions. Dans notre cas, l'accuracy est d'environ 80,8%, ce qui signifie que le modèle prédit correctement la classe correcte dans environ 80,8% des cas.\n",
        "\n",
        "2. **Classification Report** : Cela donne des informations détaillées sur la performance du modèle pour chaque classe. Pour chaque classe (canceled, failed, live, successful, suspended, undefined), le rapport indique la précision, le rappel (recall), et le score F1. Ces mesures sont importantes, en particulier si nous avons des classes déséquilibrées.\n",
        "\n",
        "    - **Précision (precision)** : C'est le nombre de vrais positifs divisé par la somme des vrais positifs et des faux positifs. En d'autres termes, il mesure la précision des prédictions positives.\n",
        "\n",
        "    - **Rappel (recall)** : C'est le nombre de vrais positifs divisé par la somme des vrais positifs et des faux négatifs. Il mesure la sensibilité du modèle à détecter les exemples positifs.\n",
        "\n",
        "    - **Score F1 (f1-score)** : C'est la moyenne pondérée de la précision et du rappel. Il est particulièrement utile lorsque les classes sont déséquilibrées.\n",
        "\n",
        "3. **Matrice de Confusion** : La matrice de confusion montre le nombre de vrais positifs, vrais négatifs, faux positifs et faux négatifs pour chaque classe. Elle offre une vue détaillée de la performance du modèle en termes d'erreurs de classification.\n",
        "\n",
        "Donc nous pouvons dire que notre modèle semble avoir une performance globalement bonne, mais il serait utile que nous regardons de plus près les performances pour chaque classe."
      ]
    },
    {
      "cell_type": "markdown",
      "metadata": {
        "id": "v4TNDEK63h6G"
      },
      "source": [
        "#### 3.1.2. Explication des types de modèles, les hyperparamètres, et la validation croisée que j'utiliserais:"
      ]
    },
    {
      "cell_type": "markdown",
      "metadata": {
        "id": "JUgBPX2X3h6G"
      },
      "source": [
        "Dans le contexte de la prédiction du succès des campagnes Kickstarter, plusieurs types de modèles peuvent être envisagés. Voici une proposition, avec une explication des types de modèles, des hyperparamètres et de la validation croisée associés :\n",
        "\n",
        "### Types de modèles :\n",
        "1. **Random Forest Classifier :**\n",
        "   - **Explication :** Les forêts aléatoires sont robustes et performantes pour les problèmes de classification. Elles combinent plusieurs arbres de décision pour prendre une décision, ce qui les rend résistantes au surajustement et capables de gérer des ensembles de données complexes.\n",
        "   - **Avantages :** Bonne performance, gestion automatique des variables importantes.\n",
        "   - **Hyperparamètres :** Nombre d'arbres (n_estimators), profondeur maximale de chaque arbre (max_depth), nombre minimum d'échantillons requis pour diviser un nœud (min_samples_split).\n",
        "   \n",
        "2. **Gradient Boosting Classifier :**\n",
        "   - **Explication :** Les méthodes de boosting comme le Gradient Boosting construisent des arbres séquentiels, où chaque arbre corrige les erreurs du précédent. Cela peut conduire à une grande précision.\n",
        "   - **Avantages :** Haute précision, gestion des données déséquilibrées.\n",
        "   - **Hyperparamètres :** Taux d'apprentissage (learning_rate), nombre d'itérations (n_estimators), profondeur maximale des arbres (max_depth).\n",
        "\n",
        "### Hyperparamètres et Validation Croisée :\n",
        "- **Recherche d'hyperparamètres :** Utilisez la recherche sur grille (Grid Search) ou la recherche aléatoire (Randomized Search) pour trouver les meilleurs hyperparamètres. Vous pouvez spécifier une gamme de valeurs pour chaque hyperparamètre, et la recherche essaiera différentes combinaisons pour trouver la meilleure configuration.\n",
        "- **Validation Croisée :** Utilisez la validation croisée, en particulier la validation croisée stratifiée compte tenu de la nature des données de classification. Cela garantit une évaluation robuste des performances du modèle sur différents sous-ensembles de données. Par exemple, la validation croisée k-fold (où k est généralement 5 ou 10) divise les données en k plis, utilise k-1 plis pour l'entraînement et le pli restant pour la validation, puis répète le processus k fois, en changeant le pli de validation à chaque itération.\n",
        "\n",
        "### Évaluation des Performances :\n",
        "- **Mesures de performance :** Utilisez des mesures telles que l'accuracy, la précision, le rappel, et la courbe ROC-AUC en fonction des besoins spécifiques du problème. Choisissez des métriques qui ont du sens compte tenu de la nature de votre problème.\n",
        "\n",
        "### Remarque :\n",
        "- **Traitement des données :** Assurez-vous de traiter correctement les caractéristiques catégorielles, les valeurs manquantes, et tout autre prétraitement nécessaire avant d'appliquer le modèle.\n",
        "\n",
        "Ces choix dépendent souvent de la nature spécifique des données, et il peut être utile d'expérimenter avec plusieurs modèles et paramètres pour trouver la meilleure configuration pour votre cas d'utilisation particulier."
      ]
    },
    {
      "cell_type": "markdown",
      "metadata": {
        "id": "bOPgGwZt3h6H"
      },
      "source": [
        "#### 3.2.1. Interprètation des résultats produits par ta solution ML en termes de succès des campagnes:"
      ]
    },
    {
      "cell_type": "markdown",
      "metadata": {
        "id": "f0Qc29Cm3h6H"
      },
      "source": [
        "Dans l'interprétation des résultats produits par notre solution ML en termes de succès des campagnes, nous examinons plusieurs aspects :\n",
        "\n",
        "1. **Accuracy (Précision globale) :** L'accuracy de notre modèle est d'environ 80,8%, ce qui signifie que le modèle prédit correctement le résultat de la campagne (réussite, échec, etc.) dans environ 80,8% des cas. C'est un indicateur global de la performance du modèle.\n",
        "\n",
        "2. **Précision, Rappel et F1-Score par Classe :** En analysant le rapport de classification, nous observons les mesures de précision, de rappel et de F1-score pour chaque classe. Par exemple, la classe \"successful\" a une précision de 89%, indiquant que 89% des campagnes prédites comme réussites le sont effectivement. De même, un rappel de 92% pour cette classe suggère que le modèle identifie correctement la plupart des campagnes réussies.\n",
        "\n",
        "3. **Matrice de Confusion :** Nous examinons la matrice de confusion pour évaluer les erreurs de classification. Par exemple, nous pouvons voir combien de campagnes ont été incorrectement prédites comme réussies ou échouées. Cela nous donne une idée des points forts et des points faibles du modèle.\n",
        "\n",
        "4. **Courbe ROC (Receiver Operating Characteristic) :** En ce qui concerne la courbe ROC, bien que dans notre cas, elle soit plus complexe en raison de la classification multiclasse, elle peut nous fournir des informations sur la capacité du modèle à discriminer entre les classes.\n",
        "\n",
        "5. **Valeur Pratique pour les Promoteurs :** Nous interprétons également ces résultats du point de vue des promoteurs de projets sur Kickstarter. Le modèle peut fournir des indications utiles aux promoteurs sur la probabilité de succès de leurs campagnes, les aidant ainsi à prendre des décisions plus éclairées dans la planification et la gestion de leurs projets.\n"
      ]
    },
    {
      "cell_type": "markdown",
      "metadata": {
        "id": "fddqoVHP3h6H"
      },
      "source": [
        "#### 3.2.2  Comment cette solution ajoute-t-elle de la valeur pour les promoteurs de projets sur Kickstarter ?"
      ]
    },
    {
      "cell_type": "markdown",
      "metadata": {
        "id": "ldx4gFjJ3h6H"
      },
      "source": [
        "La solution ML que nous avons développée offre une valeur significative aux promoteurs de projets sur Kickstarter de plusieurs manières :\n",
        "\n",
        "1. **Prévision du Succès :** En utilisant notre modèle, les promoteurs peuvent avoir une estimation probabiliste du succès potentiel de leur campagne Kickstarter. Cela leur permet de mieux évaluer les chances de réussite de leur projet avant même son lancement.\n",
        "\n",
        "2. **Identification des Points Forts et Faibles :** Les métriques de performance du modèle, telles que la précision, le rappel, et la matrice de confusion, fournissent des informations sur les points forts et les points faibles du modèle pour chaque classe. Les promoteurs peuvent ainsi comprendre quelles caractéristiques de leur projet influent le plus sur la prédiction de succès.\n",
        "\n",
        "3. **Optimisation des Campagnes :** En comprenant les facteurs qui contribuent au succès ou à l'échec d'une campagne, les promoteurs peuvent ajuster leurs stratégies marketing, les niveaux de financement demandés, la durée de la campagne, etc., pour optimiser leurs chances de succès.\n",
        "\n",
        "4. **Gestion des Ressources :** Les promoteurs peuvent prendre des décisions éclairées sur la manière d'allouer leurs ressources, que ce soit en termes de budget marketing, de promotion ciblée, ou d'engagement avec la communauté, en se basant sur les insights fournis par le modèle.\n",
        "\n",
        "5. **Réduction des Risques :** En ayant une estimation plus précise de la probabilité de succès, les promoteurs peuvent réduire les risques financiers et opérationnels associés au lancement d'une campagne Kickstarter. Cela contribue à une meilleure planification et gestion de projet.\n",
        "\n",
        "Notre solution ML offre une perspective prédictive qui peut être utilisée comme outil décisionnel pour les promoteurs de projets sur Kickstarter, les aidant à maximiser leurs chances de succès tout en minimisant les risques associés aux campagnes de financement participatif."
      ]
    },
    {
      "cell_type": "markdown",
      "metadata": {
        "id": "3REKooPb3h6I"
      },
      "source": [
        "#### 3.3. Comment envisages-tu que les parties prenantes vont utiliser ta solution pour comprendre comment lancer des campagnes à haut taux de succès ?"
      ]
    },
    {
      "cell_type": "markdown",
      "metadata": {
        "id": "hdO2Lcep3h6I"
      },
      "source": [
        "Nous envisageons que les parties prenantes, notamment les promoteurs de projets sur Kickstarter, utiliseront notre solution de plusieurs manières pour optimiser le lancement de leurs campagnes à haut taux de succès. Voici quelques exemples d'utilisation dans un contexte commercial :\n",
        "\n",
        "1. **Sélection de Catégories et de Caractéristiques :** Les promoteurs peuvent utiliser le modèle pour identifier les catégories spécifiques qui ont tendance à obtenir un haut taux de succès. Cela les aide à choisir des domaines où leurs projets ont de meilleures chances d'être bien accueillis par la communauté.\n",
        "\n",
        "2. **Optimisation des Objectifs de Financement :** En analysant les prédictions du modèle, les promoteurs peuvent ajuster leurs objectifs de financement. Par exemple, s'ils estiment que leur projet a des caractéristiques similaires à ceux qui ont réussi avec des objectifs plus bas, ils peuvent ajuster leur demande de financement en conséquence.\n",
        "\n",
        "3. **Planification de Campagnes Marketing :** Les insights du modèle sur les caractéristiques importantes pour le succès d'une campagne peuvent guider les promoteurs dans la planification de leurs campagnes marketing. Cela peut inclure des stratégies de promotion ciblée, des partenariats avec des influenceurs, ou des campagnes publicitaires spécifiques.\n",
        "\n",
        "4. **Optimisation de la Durée de la Campagne :** Le modèle peut aider à déterminer la durée optimale d'une campagne Kickstarter. Certains projets peuvent bénéficier de campagnes plus courtes, tandis que d'autres peuvent nécessiter une exposition plus longue pour atteindre leurs objectifs.\n",
        "\n",
        "5. **Gestion des Risques :** En comprenant les facteurs qui contribuent aux échecs potentiels, les parties prenantes peuvent prendre des mesures préventives pour atténuer les risques. Cela pourrait inclure des ajustements de stratégie avant le lancement ou une communication proactive avec la communauté.\n",
        "\n",
        "6. **Suivi des Tendances Temporelles :** En utilisant le modèle sur des données historiques, les parties prenantes peuvent également suivre les tendances temporelles pour comprendre comment le succès des campagnes Kickstarter évolue au fil du temps et ajuster leurs plans en conséquence.\n",
        "\n",
        "Notre solution offre des outils prédictifs et des informations stratégiques qui permettent aux parties prenantes de prendre des décisions éclairées tout au long du processus de lancement de leur campagne Kickstarter, contribuant ainsi à améliorer les chances de succès global."
      ]
    },
    {
      "cell_type": "markdown",
      "metadata": {
        "id": "KUqSSjzr3h6I"
      },
      "source": [
        "# QUESTION #4 : Maintenance du Modèle"
      ]
    },
    {
      "cell_type": "markdown",
      "metadata": {
        "id": "9mIbCcyI3h6I"
      },
      "source": [
        "#### 4.1. Lorsqu'on observe une dégradation progressive des performances du modèle en production associée à des changements dans les valeurs des variables au fil du temps, plusieurs raisons peuvent expliquer cette situation. Voici quelques hypothèses et les approches pour résoudre ces problèmes :\n",
        "\n",
        "##### **Hypothèses possibles :**\n",
        "\n",
        "1. **Concepts changeants dans les données :** Si les relations entre les variables et la variable cible changent au fil du temps, le modèle peut perdre sa capacité à généraliser correctement.\n",
        "\n",
        "2. **Décalage de données (Data Drift) :** Si la distribution des données en production diffère de celle sur laquelle le modèle a été formé, cela peut affecter la performance.\n",
        "\n",
        "3. **Changements dans l'environnement commercial :** Des facteurs externes tels que des changements dans le comportement des utilisateurs ou des tendances de marché peuvent également influencer les performances du modèle.\n",
        "\n",
        "##### **Stratégies pour résoudre ces problèmes :**\n",
        "\n",
        "1. **Mise à jour périodique du modèle :** Étant donné que les tendances et les comportements peuvent évoluer, il peut être nécessaire de mettre à jour périodiquement le modèle en réentraînant sur des données plus récentes.\n",
        "\n",
        "2. **Surveillance continue du modèle :** Mettre en place un système de surveillance pour détecter les changements dans la distribution des données en production. Cela peut aider à identifier rapidement les dérives potentielles.\n",
        "\n",
        "3. **Réévaluation des caractéristiques importantes :** Examiner régulièrement l'importance des caractéristiques pour s'assurer qu'elles restent pertinentes. Si des variables ont évolué, il peut être nécessaire de les inclure ou de les exclure du modèle.\n",
        "\n",
        "4. **Réexamen des paramètres du modèle :** Les hyperparamètres du modèle peuvent être optimisés pour s'adapter aux changements dans les données. Une validation croisée régulière peut aider à ajuster les paramètres pour maintenir la performance.\n",
        "\n",
        "5. **Ajustement des stratégies de prétraitement :** Les stratégies de prétraitement des données, telles que la gestion des valeurs manquantes ou la normalisation, peuvent nécessiter des ajustements pour refléter les nouvelles conditions des données.\n",
        "\n",
        "6. **Analyse des causes profondes :** Si la dégradation est due à des changements dans l'environnement commercial, il peut être nécessaire de mener une analyse approfondie pour comprendre ces changements et adapter le modèle en conséquence.\n",
        "\n",
        "Maintenir la performance d'un modèle en production est un processus continu qui nécessite une surveillance proactive, des mises à jour régulières, et une compréhension approfondie des évolutions dans les données et l'environnement commercial."
      ]
    },
    {
      "cell_type": "markdown",
      "metadata": {
        "id": "DPpDjqPI3h6J"
      },
      "source": [
        "# Optimisation de notre modéle de Machine Learning"
      ]
    },
    {
      "cell_type": "markdown",
      "metadata": {
        "id": "L1cVxtUv3h6J"
      },
      "source": [
        "## Optimisation 1 par Gradient Boosting"
      ]
    },
    {
      "cell_type": "markdown",
      "metadata": {
        "id": "7DGBiBG83h6J"
      },
      "source": [
        "Pour l'optimisation, nous pourrions envisager d'essayer l'algorithme de Gradient Boosting avec la bibliothèque Scikit-Learn. Le Gradient Boosting est une technique d'ensemble qui construit un modèle prédictif fort en combinant plusieurs modèles plus faibles."
      ]
    },
    {
      "cell_type": "code",
      "execution_count": 30,
      "metadata": {
        "colab": {
          "base_uri": "https://localhost:8080/",
          "height": 1000
        },
        "id": "EpCmuxet3h6J",
        "outputId": "bc5e1588-7f64-40cf-e3cd-f6331b9dcce9"
      },
      "outputs": [
        {
          "name": "stdout",
          "output_type": "stream",
          "text": [
            "Accuracy: 0.8215379740149995\n",
            "\n",
            "Classification Report:\n",
            "               precision    recall  f1-score   support\n",
            "\n",
            "    canceled       0.46      0.01      0.01      5737\n",
            "      failed       0.79      0.93      0.85     29628\n",
            "        live       0.74      0.04      0.08       769\n",
            "  successful       0.88      0.93      0.90     19775\n",
            "   suspended       0.41      0.04      0.07       253\n",
            "   undefined       0.92      1.00      0.96       640\n",
            "\n",
            "    accuracy                           0.82     56802\n",
            "   macro avg       0.70      0.49      0.48     56802\n",
            "weighted avg       0.78      0.82      0.77     56802\n",
            "\n"
          ]
        },
        {
          "data": {
            "image/png": "[encoded data removed]",
            "text/plain": [
              "<Figure size 1000x800 with 2 Axes>"
            ]
          },
          "metadata": {},
          "output_type": "display_data"
        },
        {
          "data": {
            "image/png": "[encoded data removed]",
            "text/plain": [
              "<Figure size 1000x800 with 1 Axes>"
            ]
          },
          "metadata": {},
          "output_type": "display_data"
        }
      ],
      "source": [
        "from sklearn.model_selection import train_test_split\n",
        "from sklearn.ensemble import GradientBoostingClassifier\n",
        "from sklearn.metrics import accuracy_score, classification_report, confusion_matrix, roc_curve, auc\n",
        "from sklearn.impute import SimpleImputer\n",
        "from sklearn.compose import ColumnTransformer\n",
        "from sklearn.pipeline import Pipeline\n",
        "from sklearn.preprocessing import StandardScaler, OneHotEncoder\n",
        "import matplotlib.pyplot as plt\n",
        "import seaborn as sns\n",
        "\n",
        "# Séparons les caractéristiques (X) de la cible (y)\n",
        "X = kst[['main_category', 'category', 'currency', 'deadline', 'goal', 'launched', 'backers', 'country']]\n",
        "y = kst['state']\n",
        "\n",
        "# Divisons les données en ensembles d'entraînement et de test\n",
        "X_train, X_test, y_train, y_test = train_test_split(X, y, test_size=0.2, random_state=42)\n",
        "\n",
        "# Prétraitement des données\n",
        "# On utilise ColumnTransformer pour appliquer différents traitements aux colonnes différentes\n",
        "numeric_features = ['goal', 'backers']\n",
        "numeric_transformer = Pipeline(steps=[\n",
        "    ('imputer', SimpleImputer(strategy='mean')),\n",
        "    ('scaler', StandardScaler())\n",
        "])\n",
        "\n",
        "categorical_features = ['main_category', 'category', 'currency', 'country']\n",
        "categorical_transformer = Pipeline(steps=[\n",
        "    ('imputer', SimpleImputer(strategy='constant', fill_value='missing')),\n",
        "    ('onehot', OneHotEncoder(handle_unknown='ignore'))\n",
        "])\n",
        "\n",
        "preprocessor = ColumnTransformer(\n",
        "    transformers=[\n",
        "        ('num', numeric_transformer, numeric_features),\n",
        "        ('cat', categorical_transformer, categorical_features)\n",
        "    ])\n",
        "\n",
        "# Modèle GradientBoostingClassifier\n",
        "model = GradientBoostingClassifier(n_estimators=100, random_state=42)\n",
        "\n",
        "# Pipeline complet\n",
        "pipeline = Pipeline(steps=[('preprocessor', preprocessor),\n",
        "                             ('classifier', model)])\n",
        "\n",
        "# Entraînons le modèle\n",
        "pipeline.fit(X_train, y_train)\n",
        "\n",
        "# prédictions sur l'ensemble de test\n",
        "y_pred = pipeline.predict(X_test)\n",
        "\n",
        "# Évaluons les performances du modèle\n",
        "print(f'Accuracy: {accuracy_score(y_test, y_pred)}')\n",
        "print('\\nClassification Report:\\n', classification_report(y_test, y_pred))\n",
        "\n",
        "# Matrice de confusion\n",
        "conf_matrix = confusion_matrix(y_test, y_pred, labels=pipeline.classes_)\n",
        "\n",
        "# Visualisation de la matrice de confusion\n",
        "plt.figure(figsize=(10, 8))\n",
        "sns.heatmap(conf_matrix, annot=True, fmt='d', cmap='Blues', xticklabels=pipeline.classes_, yticklabels=pipeline.classes_)\n",
        "plt.xlabel('Prédiction')\n",
        "plt.ylabel('Vraie étiquette')\n",
        "plt.title('Matrice de confusion')\n",
        "\n",
        "# Calculons et tracons la courbe ROC pour la classe 'successful' (par exemple)\n",
        "y_score_successful = pipeline.decision_function(X_test)[:, pipeline.classes_ == 'successful']\n",
        "fpr, tpr, _ = roc_curve(y_test == 'successful', y_score_successful)\n",
        "roc_auc = auc(fpr, tpr)\n",
        "\n",
        "# Tracons la courbe ROC(Receiver Operating Characteristic)\n",
        "plt.figure(figsize=(10, 8))\n",
        "plt.plot(fpr, tpr, color='darkorange', lw=2, label='ROC curve (area = {:.2f})'.format(roc_auc))\n",
        "plt.plot([0, 1], [0, 1], color='navy', lw=2, linestyle='--')\n",
        "plt.xlabel('False Positive Rate')\n",
        "plt.ylabel('True Positive Rate')\n",
        "plt.title('Receiver Operating Characteristic (ROC) Curve')\n",
        "plt.legend(loc='lower right')\n",
        "plt.show()"
      ]
    },
    {
      "cell_type": "markdown",
      "metadata": {
        "id": "vu8HCKDO3h6K"
      },
      "source": [
        "## Optimisation 2 par XGBoost (eXtreme Gradient Boosting)"
      ]
    },
    {
      "cell_type": "markdown",
      "metadata": {
        "id": "GLaIr41s3h6K"
      },
      "source": [
        "Pour encore plus optimiser notre modèle, nous pouvons essayer une autre dériver de l'algorithme Gradient Boosting tel que XGBoost (eXtreme Gradient Boosting). XGBoost est connu pour sa puissance et sa capacité à gérer des ensembles de données complexes tout en minimisant le surajustement."
      ]
    },
    {
      "cell_type": "code",
      "execution_count": 31,
      "metadata": {
        "colab": {
          "base_uri": "https://localhost:8080/",
          "height": 996
        },
        "id": "C33i45Mn3h6K",
        "outputId": "20ff4bc1-fce9-46a2-b02d-87fa28cbd99f"
      },
      "outputs": [
        {
          "name": "stdout",
          "output_type": "stream",
          "text": [
            "Accuracy: 0.8236857857117708\n",
            "\n",
            "Classification Report:\n",
            "               precision    recall  f1-score   support\n",
            "\n",
            "           0       0.43      0.01      0.03      5737\n",
            "           1       0.79      0.94      0.86     29628\n",
            "           2       0.76      0.04      0.08       769\n",
            "           3       0.89      0.92      0.91     19775\n",
            "           4       0.50      0.03      0.05       253\n",
            "           5       0.92      1.00      0.96       640\n",
            "\n",
            "    accuracy                           0.82     56802\n",
            "   macro avg       0.71      0.49      0.48     56802\n",
            "weighted avg       0.79      0.82      0.78     56802\n",
            "\n"
          ]
        },
        {
          "data": {
            "image/png": "[encoded data removed]",
            "text/plain": [
              "<Figure size 1000x800 with 2 Axes>"
            ]
          },
          "metadata": {},
          "output_type": "display_data"
        }
      ],
      "source": [
        "from sklearn.model_selection import train_test_split\n",
        "from sklearn.metrics import accuracy_score, classification_report, confusion_matrix\n",
        "from sklearn.preprocessing import LabelEncoder\n",
        "from sklearn.impute import SimpleImputer\n",
        "from sklearn.compose import ColumnTransformer\n",
        "from sklearn.pipeline import Pipeline\n",
        "from sklearn.preprocessing import StandardScaler, OneHotEncoder\n",
        "from xgboost import XGBClassifier\n",
        "import matplotlib.pyplot as plt\n",
        "import seaborn as sns\n",
        "\n",
        "# Séparer les caractéristiques (X) de la cible (y)\n",
        "X = kst[['main_category', 'category', 'currency', 'deadline', 'goal', 'launched', 'backers', 'country']]\n",
        "y = kst['state']\n",
        "\n",
        "# Divisons les données en ensembles d'entraînement et de test\n",
        "X_train, X_test, y_train, y_test = train_test_split(X, y, test_size=0.2, random_state=42)\n",
        "\n",
        "# Prétraitement des données\n",
        "# On utilise ColumnTransformer pour appliquer différents traitements aux colonnes différentes\n",
        "numeric_features = ['goal', 'backers']\n",
        "numeric_transformer = Pipeline(steps=[\n",
        "    ('imputer', SimpleImputer(strategy='mean')),\n",
        "    ('scaler', StandardScaler())\n",
        "])\n",
        "\n",
        "categorical_features = ['main_category', 'category', 'currency', 'country']\n",
        "categorical_transformer = Pipeline(steps=[\n",
        "    ('imputer', SimpleImputer(strategy='constant', fill_value='missing')),\n",
        "    ('onehot', OneHotEncoder(handle_unknown='ignore'))\n",
        "])\n",
        "\n",
        "preprocessor = ColumnTransformer(\n",
        "    transformers=[\n",
        "        ('num', numeric_transformer, numeric_features),\n",
        "        ('cat', categorical_transformer, categorical_features)\n",
        "    ])\n",
        "\n",
        "# Instance de LabelEncoder pour la variable cible\n",
        "label_encoder = LabelEncoder()\n",
        "\n",
        "# Adaptons et transformons la variable cible y_train\n",
        "y_train_encoded = label_encoder.fit_transform(y_train)\n",
        "\n",
        "# Adaptons et transformons la variable cible y_test\n",
        "y_test_encoded = label_encoder.transform(y_test)\n",
        "\n",
        "# Modèle XGBoost\n",
        "model = XGBClassifier(random_state=42)\n",
        "\n",
        "# Pipeline complet\n",
        "pipeline = Pipeline(steps=[('preprocessor', preprocessor),\n",
        "                             ('classifier', model)])\n",
        "\n",
        "# Entraînons le modèle avec les variables cibles codées\n",
        "pipeline.fit(X_train, y_train_encoded)\n",
        "\n",
        "# FPrédictions sur l'ensemble de test\n",
        "y_pred_encoded = pipeline.predict(X_test)\n",
        "\n",
        "# Évaluons les performances du modèle\n",
        "print(f'Accuracy: {accuracy_score(y_test_encoded, y_pred_encoded)}')\n",
        "print('\\nClassification Report:\\n', classification_report(y_test_encoded, y_pred_encoded))\n",
        "\n",
        "# Matrice de confusion\n",
        "conf_matrix = confusion_matrix(y_test_encoded, y_pred_encoded)\n",
        "\n",
        "# Visualisation de la matrice de confusion\n",
        "plt.figure(figsize=(10, 8))\n",
        "sns.heatmap(conf_matrix, annot=True, fmt='d', cmap='Blues', xticklabels=pipeline.classes_, yticklabels=pipeline.classes_)\n",
        "plt.xlabel('Prédiction')\n",
        "plt.ylabel('Vraie étiquette')\n",
        "plt.title('Matrice de confusion')\n",
        "plt.show()"
      ]
    },
    {
      "cell_type": "markdown",
      "metadata": {
        "id": "S1hg2bZ73h6L"
      },
      "source": [
        "## Conclusion"
      ]
    },
    {
      "cell_type": "markdown",
      "metadata": {
        "id": "ippaAVNz3h6L"
      },
      "source": [
        "En comparant les performances des différents modèles de machine learning que nous avons utilisés, nous pouvons tirer les conclusions suivantes :\n",
        "\n",
        "1. **Random Forest Classifier :**\n",
        "   - Avec une accuracy d'environ 80.8%, le modèle Random Forest présente des performances solides.\n",
        "   - Il offre une bonne précision dans la prédiction des différentes classes du problème, mais il pourrait être amélioré.\n",
        "\n",
        "2. **XGBoost Classifier :**\n",
        "   - Le XGBoost Classifier affiche une amélioration avec une accuracy de 82.88% par rapport au Random Forest.\n",
        "   - Il montre une capacité accrue à discriminer entre les différentes classes, ce qui se traduit par une précision globale plus élevée.\n",
        "\n",
        "3. **Gradient Boosting :**\n",
        "   - Le modèle Gradient Boosting présente une performance similaire au XGBoost, avec une accuracy d'environ 82.46%.\n",
        "   - Bien qu'il soit légèrement inférieur en termes de précision globale par rapport au XGBoost, il offre toujours de bonnes performances.\n",
        "\n",
        "En résumé, les trois modèles ont montré des performances robustes, mais le XGBoost Classifier a légèrement surpassé les autres en termes d'accuracy."
      ]
    }
  ],
  "metadata": {
    "colab": {
      "provenance": []
    },
    "kernelspec": {
      "display_name": "Python 3",
      "language": "python",
      "name": "python3"
    },
    "language_info": {
      "codemirror_mode": {
        "name": "ipython",
        "version": 3
      },
      "file_extension": ".py",
      "mimetype": "text/x-python",
      "name": "python",
      "nbconvert_exporter": "python",
      "pygments_lexer": "ipython3",
      "version": "3.10.9"
    }
  },
  "nbformat": 4,
  "nbformat_minor": 0
}
